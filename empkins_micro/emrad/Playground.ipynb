{
 "cells": [
  {
   "attachments": {},
   "cell_type": "markdown",
   "metadata": {},
   "source": [
    "# Testing of Implementations regarding my Bachelor Thesis\n",
    "# \"Improving the Robustness of Radar-Based Heart Sound Detection\""
   ]
  },
  {
   "cell_type": "code",
   "execution_count": 1,
   "metadata": {},
   "outputs": [],
   "source": [
    "from empkins_io.datasets.d03.micro_gapvii import MicroBaseDataset\n",
    "from empkins_micro.emrad.preprocessing.pre_processing_algorithms import *\n",
    "from empkins_micro.emrad.feature_extraction.feature_generation_algorithms import *\n",
    "from empkins_micro.emrad.label_generation.label_generation_algorithms import *\n",
    "\n",
    "import pandas as pd\n",
    "from pathlib import Path\n",
    "import numpy as np\n",
    "\n",
    "import matplotlib.pyplot as plt\n",
    "\n",
    "%load_ext autoreload\n",
    "%autoreload 2"
   ]
  },
  {
   "attachments": {},
   "cell_type": "markdown",
   "metadata": {},
   "source": [
    "<span style=\"color:#FF7F50\">Test the correct index creation using the HeartbeatDetectionData class</span>\n",
    "\n",
    "<span style=\"color:#FF7F50\">This class inherits from the MicroBaseDataset class and extends its functionality with methods more specifically/uniquely related to the project of my bachelor's thesis!</span>"
   ]
  },
  {
   "cell_type": "code",
   "execution_count": 3,
   "metadata": {},
   "outputs": [
    {
     "data": {
      "text/html": [
       "<div>\n",
       "<style scoped>\n",
       "    .dataframe tbody tr th:only-of-type {\n",
       "        vertical-align: middle;\n",
       "    }\n",
       "\n",
       "    .dataframe tbody tr th {\n",
       "        vertical-align: top;\n",
       "    }\n",
       "\n",
       "    .dataframe thead th {\n",
       "        text-align: right;\n",
       "    }\n",
       "</style>\n",
       "<table border=\"1\" class=\"dataframe\">\n",
       "  <thead>\n",
       "    <tr style=\"text-align: right;\">\n",
       "      <th></th>\n",
       "      <th>subject</th>\n",
       "      <th>condition</th>\n",
       "      <th>phase</th>\n",
       "    </tr>\n",
       "  </thead>\n",
       "  <tbody>\n",
       "    <tr>\n",
       "      <th>0</th>\n",
       "      <td>VP_01</td>\n",
       "      <td>tsst</td>\n",
       "      <td>Prep</td>\n",
       "    </tr>\n",
       "    <tr>\n",
       "      <th>1</th>\n",
       "      <td>VP_01</td>\n",
       "      <td>tsst</td>\n",
       "      <td>Pause_1</td>\n",
       "    </tr>\n",
       "    <tr>\n",
       "      <th>2</th>\n",
       "      <td>VP_01</td>\n",
       "      <td>tsst</td>\n",
       "      <td>Talk</td>\n",
       "    </tr>\n",
       "    <tr>\n",
       "      <th>3</th>\n",
       "      <td>VP_01</td>\n",
       "      <td>tsst</td>\n",
       "      <td>Pause_2</td>\n",
       "    </tr>\n",
       "    <tr>\n",
       "      <th>4</th>\n",
       "      <td>VP_01</td>\n",
       "      <td>tsst</td>\n",
       "      <td>Pause_3</td>\n",
       "    </tr>\n",
       "    <tr>\n",
       "      <th>...</th>\n",
       "      <td>...</td>\n",
       "      <td>...</td>\n",
       "      <td>...</td>\n",
       "    </tr>\n",
       "    <tr>\n",
       "      <th>715</th>\n",
       "      <td>VP_45</td>\n",
       "      <td>ftsst</td>\n",
       "      <td>Pause_2</td>\n",
       "    </tr>\n",
       "    <tr>\n",
       "      <th>716</th>\n",
       "      <td>VP_45</td>\n",
       "      <td>ftsst</td>\n",
       "      <td>Pause_3</td>\n",
       "    </tr>\n",
       "    <tr>\n",
       "      <th>717</th>\n",
       "      <td>VP_45</td>\n",
       "      <td>ftsst</td>\n",
       "      <td>Math</td>\n",
       "    </tr>\n",
       "    <tr>\n",
       "      <th>718</th>\n",
       "      <td>VP_45</td>\n",
       "      <td>ftsst</td>\n",
       "      <td>Pause_4</td>\n",
       "    </tr>\n",
       "    <tr>\n",
       "      <th>719</th>\n",
       "      <td>VP_45</td>\n",
       "      <td>ftsst</td>\n",
       "      <td>Pause_5</td>\n",
       "    </tr>\n",
       "  </tbody>\n",
       "</table>\n",
       "<p>720 rows × 3 columns</p>\n",
       "</div>"
      ],
      "text/plain": [
       "    subject condition    phase\n",
       "0     VP_01      tsst     Prep\n",
       "1     VP_01      tsst  Pause_1\n",
       "2     VP_01      tsst     Talk\n",
       "3     VP_01      tsst  Pause_2\n",
       "4     VP_01      tsst  Pause_3\n",
       "..      ...       ...      ...\n",
       "715   VP_45     ftsst  Pause_2\n",
       "716   VP_45     ftsst  Pause_3\n",
       "717   VP_45     ftsst     Math\n",
       "718   VP_45     ftsst  Pause_4\n",
       "719   VP_45     ftsst  Pause_5\n",
       "\n",
       "[720 rows x 3 columns]"
      ]
     },
     "execution_count": 3,
     "metadata": {},
     "output_type": "execute_result"
    }
   ],
   "source": [
    "base_path_str = r\"C:\\Users\\clark\\Documents\\Studium\\Bachelorarbeit\\data\"\n",
    "test_data = MicroBaseDataset(Path(base_path_str), use_cache=False)\n",
    "index = test_data.create_index()\n",
    "index\n"
   ]
  },
  {
   "cell_type": "code",
   "execution_count": 6,
   "metadata": {},
   "outputs": [
    {
     "data": {
      "text/html": [
       "<h4 style=\"margin-bottom: 0.1em;\">MicroBaseDataset [720 groups/rows]</h3>\n",
       "<div style=\"margin-top: 0em\">\n",
       "<style scoped>\n",
       "    .dataframe tbody tr th:only-of-type {\n",
       "        vertical-align: middle;\n",
       "    }\n",
       "\n",
       "    .dataframe tbody tr th {\n",
       "        vertical-align: top;\n",
       "    }\n",
       "\n",
       "    .dataframe thead th {\n",
       "        text-align: right;\n",
       "    }\n",
       "</style>\n",
       "<table style=\"margin-left: 3em;\">\n",
       "  <thead>\n",
       "    <tr style=\"text-align: right;\">\n",
       "      <th style=\"text-align: center;\"></th>\n",
       "      <th style=\"text-align: center;\">subject</th>\n",
       "      <th style=\"text-align: center;\">condition</th>\n",
       "      <th style=\"text-align: center;\">phase</th>\n",
       "    </tr>\n",
       "  </thead>\n",
       "  <tbody>\n",
       "    <tr>\n",
       "      <th style=\"text-align: center;\">0</th>\n",
       "      <td style=\"text-align: center; padding-left: 2em; padding-right: 2em;\">VP_01</td>\n",
       "      <td style=\"text-align: center; padding-left: 2em; padding-right: 2em;\">tsst</td>\n",
       "      <td style=\"text-align: center; padding-left: 2em; padding-right: 2em;\">Prep</td>\n",
       "    </tr>\n",
       "    <tr>\n",
       "      <th style=\"text-align: center;\">1</th>\n",
       "      <td style=\"text-align: center; padding-left: 2em; padding-right: 2em;\">VP_01</td>\n",
       "      <td style=\"text-align: center; padding-left: 2em; padding-right: 2em;\">tsst</td>\n",
       "      <td style=\"text-align: center; padding-left: 2em; padding-right: 2em;\">Pause_1</td>\n",
       "    </tr>\n",
       "    <tr>\n",
       "      <th style=\"text-align: center;\">2</th>\n",
       "      <td style=\"text-align: center; padding-left: 2em; padding-right: 2em;\">VP_01</td>\n",
       "      <td style=\"text-align: center; padding-left: 2em; padding-right: 2em;\">tsst</td>\n",
       "      <td style=\"text-align: center; padding-left: 2em; padding-right: 2em;\">Talk</td>\n",
       "    </tr>\n",
       "    <tr>\n",
       "      <th style=\"text-align: center;\">3</th>\n",
       "      <td style=\"text-align: center; padding-left: 2em; padding-right: 2em;\">VP_01</td>\n",
       "      <td style=\"text-align: center; padding-left: 2em; padding-right: 2em;\">tsst</td>\n",
       "      <td style=\"text-align: center; padding-left: 2em; padding-right: 2em;\">Pause_2</td>\n",
       "    </tr>\n",
       "    <tr>\n",
       "      <th style=\"text-align: center;\">4</th>\n",
       "      <td style=\"text-align: center; padding-left: 2em; padding-right: 2em;\">VP_01</td>\n",
       "      <td style=\"text-align: center; padding-left: 2em; padding-right: 2em;\">tsst</td>\n",
       "      <td style=\"text-align: center; padding-left: 2em; padding-right: 2em;\">Pause_3</td>\n",
       "    </tr>\n",
       "    <tr>\n",
       "      <th style=\"text-align: center;\">...</th>\n",
       "      <td style=\"text-align: center; padding-left: 2em; padding-right: 2em;\">...</td>\n",
       "      <td style=\"text-align: center; padding-left: 2em; padding-right: 2em;\">...</td>\n",
       "      <td style=\"text-align: center; padding-left: 2em; padding-right: 2em;\">...</td>\n",
       "    </tr>\n",
       "    <tr>\n",
       "      <th style=\"text-align: center;\">715</th>\n",
       "      <td style=\"text-align: center; padding-left: 2em; padding-right: 2em;\">VP_45</td>\n",
       "      <td style=\"text-align: center; padding-left: 2em; padding-right: 2em;\">ftsst</td>\n",
       "      <td style=\"text-align: center; padding-left: 2em; padding-right: 2em;\">Pause_2</td>\n",
       "    </tr>\n",
       "    <tr>\n",
       "      <th style=\"text-align: center;\">716</th>\n",
       "      <td style=\"text-align: center; padding-left: 2em; padding-right: 2em;\">VP_45</td>\n",
       "      <td style=\"text-align: center; padding-left: 2em; padding-right: 2em;\">ftsst</td>\n",
       "      <td style=\"text-align: center; padding-left: 2em; padding-right: 2em;\">Pause_3</td>\n",
       "    </tr>\n",
       "    <tr>\n",
       "      <th style=\"text-align: center;\">717</th>\n",
       "      <td style=\"text-align: center; padding-left: 2em; padding-right: 2em;\">VP_45</td>\n",
       "      <td style=\"text-align: center; padding-left: 2em; padding-right: 2em;\">ftsst</td>\n",
       "      <td style=\"text-align: center; padding-left: 2em; padding-right: 2em;\">Math</td>\n",
       "    </tr>\n",
       "    <tr>\n",
       "      <th style=\"text-align: center;\">718</th>\n",
       "      <td style=\"text-align: center; padding-left: 2em; padding-right: 2em;\">VP_45</td>\n",
       "      <td style=\"text-align: center; padding-left: 2em; padding-right: 2em;\">ftsst</td>\n",
       "      <td style=\"text-align: center; padding-left: 2em; padding-right: 2em;\">Pause_4</td>\n",
       "    </tr>\n",
       "    <tr>\n",
       "      <th style=\"text-align: center;\">719</th>\n",
       "      <td style=\"text-align: center; padding-left: 2em; padding-right: 2em;\">VP_45</td>\n",
       "      <td style=\"text-align: center; padding-left: 2em; padding-right: 2em;\">ftsst</td>\n",
       "      <td style=\"text-align: center; padding-left: 2em; padding-right: 2em;\">Pause_5</td>\n",
       "    </tr>\n",
       "  </tbody>\n",
       "</table>\n",
       "<p>720 rows × 3 columns</p>\n",
       "</div>"
      ],
      "text/plain": [
       "MicroBaseDataset [720 groups/rows]\n",
       "\n",
       "       subject condition    phase\n",
       "   0     VP_01      tsst     Prep\n",
       "   1     VP_01      tsst  Pause_1\n",
       "   2     VP_01      tsst     Talk\n",
       "   3     VP_01      tsst  Pause_2\n",
       "   4     VP_01      tsst  Pause_3\n",
       "   ..      ...       ...      ...\n",
       "   715   VP_45     ftsst  Pause_2\n",
       "   716   VP_45     ftsst  Pause_3\n",
       "   717   VP_45     ftsst     Math\n",
       "   718   VP_45     ftsst  Pause_4\n",
       "   719   VP_45     ftsst  Pause_5\n",
       "   \n",
       "   [720 rows x 3 columns]"
      ]
     },
     "execution_count": 6,
     "metadata": {},
     "output_type": "execute_result"
    }
   ],
   "source": [
    "test_data"
   ]
  },
  {
   "attachments": {},
   "cell_type": "markdown",
   "metadata": {},
   "source": [
    "<span style=\"color:#FF7F50\">Create a subset of the whole Dataset.</span>\n",
    "\n",
    "<span style=\"color:#FF7F50\">This subset is necessary for further analysis</span>"
   ]
  },
  {
   "cell_type": "code",
   "execution_count": 21,
   "metadata": {},
   "outputs": [
    {
     "data": {
      "text/html": [
       "<h4 style=\"margin-bottom: 0.1em;\">MicroBaseDataset [8 groups/rows]</h3>\n",
       "<div style=\"margin-top: 0em\">\n",
       "<style scoped>\n",
       "    .dataframe tbody tr th:only-of-type {\n",
       "        vertical-align: middle;\n",
       "    }\n",
       "\n",
       "    .dataframe tbody tr th {\n",
       "        vertical-align: top;\n",
       "    }\n",
       "\n",
       "    .dataframe thead th {\n",
       "        text-align: right;\n",
       "    }\n",
       "</style>\n",
       "<table style=\"margin-left: 3em;\">\n",
       "  <thead>\n",
       "    <tr style=\"text-align: right;\">\n",
       "      <th style=\"text-align: center;\"></th>\n",
       "      <th style=\"text-align: center;\">subject</th>\n",
       "      <th style=\"text-align: center;\">condition</th>\n",
       "      <th style=\"text-align: center;\">phase</th>\n",
       "    </tr>\n",
       "  </thead>\n",
       "  <tbody>\n",
       "    <tr>\n",
       "      <th style=\"text-align: center;\">0</th>\n",
       "      <td style=\"text-align: center; padding-left: 2em; padding-right: 2em;\">VP_01</td>\n",
       "      <td style=\"text-align: center; padding-left: 2em; padding-right: 2em;\">ftsst</td>\n",
       "      <td style=\"text-align: center; padding-left: 2em; padding-right: 2em;\">Prep</td>\n",
       "    </tr>\n",
       "    <tr>\n",
       "      <th style=\"text-align: center;\">1</th>\n",
       "      <td style=\"text-align: center; padding-left: 2em; padding-right: 2em;\">VP_01</td>\n",
       "      <td style=\"text-align: center; padding-left: 2em; padding-right: 2em;\">ftsst</td>\n",
       "      <td style=\"text-align: center; padding-left: 2em; padding-right: 2em;\">Pause_1</td>\n",
       "    </tr>\n",
       "    <tr>\n",
       "      <th style=\"text-align: center;\">2</th>\n",
       "      <td style=\"text-align: center; padding-left: 2em; padding-right: 2em;\">VP_01</td>\n",
       "      <td style=\"text-align: center; padding-left: 2em; padding-right: 2em;\">ftsst</td>\n",
       "      <td style=\"text-align: center; padding-left: 2em; padding-right: 2em;\">Talk</td>\n",
       "    </tr>\n",
       "    <tr>\n",
       "      <th style=\"text-align: center;\">3</th>\n",
       "      <td style=\"text-align: center; padding-left: 2em; padding-right: 2em;\">VP_01</td>\n",
       "      <td style=\"text-align: center; padding-left: 2em; padding-right: 2em;\">ftsst</td>\n",
       "      <td style=\"text-align: center; padding-left: 2em; padding-right: 2em;\">Pause_2</td>\n",
       "    </tr>\n",
       "    <tr>\n",
       "      <th style=\"text-align: center;\">4</th>\n",
       "      <td style=\"text-align: center; padding-left: 2em; padding-right: 2em;\">VP_01</td>\n",
       "      <td style=\"text-align: center; padding-left: 2em; padding-right: 2em;\">ftsst</td>\n",
       "      <td style=\"text-align: center; padding-left: 2em; padding-right: 2em;\">Pause_3</td>\n",
       "    </tr>\n",
       "    <tr>\n",
       "      <th style=\"text-align: center;\">5</th>\n",
       "      <td style=\"text-align: center; padding-left: 2em; padding-right: 2em;\">VP_01</td>\n",
       "      <td style=\"text-align: center; padding-left: 2em; padding-right: 2em;\">ftsst</td>\n",
       "      <td style=\"text-align: center; padding-left: 2em; padding-right: 2em;\">Math</td>\n",
       "    </tr>\n",
       "    <tr>\n",
       "      <th style=\"text-align: center;\">6</th>\n",
       "      <td style=\"text-align: center; padding-left: 2em; padding-right: 2em;\">VP_01</td>\n",
       "      <td style=\"text-align: center; padding-left: 2em; padding-right: 2em;\">ftsst</td>\n",
       "      <td style=\"text-align: center; padding-left: 2em; padding-right: 2em;\">Pause_4</td>\n",
       "    </tr>\n",
       "    <tr>\n",
       "      <th style=\"text-align: center;\">7</th>\n",
       "      <td style=\"text-align: center; padding-left: 2em; padding-right: 2em;\">VP_01</td>\n",
       "      <td style=\"text-align: center; padding-left: 2em; padding-right: 2em;\">ftsst</td>\n",
       "      <td style=\"text-align: center; padding-left: 2em; padding-right: 2em;\">Pause_5</td>\n",
       "    </tr>\n",
       "  </tbody>\n",
       "</table>\n",
       "</div>"
      ],
      "text/plain": [
       "MicroBaseDataset [8 groups/rows]\n",
       "\n",
       "     subject condition    phase\n",
       "   0   VP_01     ftsst     Prep\n",
       "   1   VP_01     ftsst  Pause_1\n",
       "   2   VP_01     ftsst     Talk\n",
       "   3   VP_01     ftsst  Pause_2\n",
       "   4   VP_01     ftsst  Pause_3\n",
       "   5   VP_01     ftsst     Math\n",
       "   6   VP_01     ftsst  Pause_4\n",
       "   7   VP_01     ftsst  Pause_5"
      ]
     },
     "execution_count": 21,
     "metadata": {},
     "output_type": "execute_result"
    }
   ],
   "source": [
    "subset = test_data.get_subset(subject = \"VP_01\", condition = \"ftsst\")\n",
    "subset"
   ]
  },
  {
   "cell_type": "code",
   "execution_count": 10,
   "metadata": {},
   "outputs": [
    {
     "data": {
      "text/plain": [
       "[MicroBaseDataset(subject='VP_01', condition='ftsst')]"
      ]
     },
     "execution_count": 10,
     "metadata": {},
     "output_type": "execute_result"
    }
   ],
   "source": [
    "subset.groupby(groupby_cols=[\"subject\", \"condition\"]).groups"
   ]
  },
  {
   "cell_type": "code",
   "execution_count": 20,
   "metadata": {},
   "outputs": [
    {
     "data": {
      "text/plain": [
       "'ftsst'"
      ]
     },
     "execution_count": 20,
     "metadata": {},
     "output_type": "execute_result"
    }
   ],
   "source": [
    "list(set(subset.create_group_labels(label_cols=[\"subject\", \"condition\"])))[0][1]"
   ]
  },
  {
   "attachments": {},
   "cell_type": "markdown",
   "metadata": {},
   "source": [
    "<span style=\"color:#FF7F50\">Of the above subset, get the raw radar data</span>"
   ]
  },
  {
   "cell_type": "code",
   "execution_count": 5,
   "metadata": {},
   "outputs": [
    {
     "data": {
      "text/plain": [
       "Index(['rad1', 'rad2'], dtype='object', name='node')"
      ]
     },
     "execution_count": 5,
     "metadata": {},
     "output_type": "execute_result"
    }
   ],
   "source": [
    "radar_data, fs = subset.emrad\n",
    "radar_data.columns.get_level_values(0).unique()"
   ]
  },
  {
   "cell_type": "code",
   "execution_count": 8,
   "metadata": {},
   "outputs": [
    {
     "data": {
      "text/html": [
       "<div>\n",
       "<style scoped>\n",
       "    .dataframe tbody tr th:only-of-type {\n",
       "        vertical-align: middle;\n",
       "    }\n",
       "\n",
       "    .dataframe tbody tr th {\n",
       "        vertical-align: top;\n",
       "    }\n",
       "\n",
       "    .dataframe thead tr th {\n",
       "        text-align: left;\n",
       "    }\n",
       "\n",
       "    .dataframe thead tr:last-of-type th {\n",
       "        text-align: right;\n",
       "    }\n",
       "</style>\n",
       "<table border=\"1\" class=\"dataframe\">\n",
       "  <thead>\n",
       "    <tr>\n",
       "      <th>node</th>\n",
       "      <th colspan=\"4\" halign=\"left\">rad1</th>\n",
       "      <th colspan=\"4\" halign=\"left\">rad2</th>\n",
       "    </tr>\n",
       "    <tr>\n",
       "      <th>channel</th>\n",
       "      <th>I</th>\n",
       "      <th>Q</th>\n",
       "      <th>Sync_In</th>\n",
       "      <th>Sync_Out</th>\n",
       "      <th>I</th>\n",
       "      <th>Q</th>\n",
       "      <th>Sync_In</th>\n",
       "      <th>Sync_Out</th>\n",
       "    </tr>\n",
       "    <tr>\n",
       "      <th>date (Europe/Berlin)</th>\n",
       "      <th></th>\n",
       "      <th></th>\n",
       "      <th></th>\n",
       "      <th></th>\n",
       "      <th></th>\n",
       "      <th></th>\n",
       "      <th></th>\n",
       "      <th></th>\n",
       "    </tr>\n",
       "  </thead>\n",
       "  <tbody>\n",
       "    <tr>\n",
       "      <th>2022-12-21 13:22:33+01:00</th>\n",
       "      <td>-1589048.0</td>\n",
       "      <td>-3265592.0</td>\n",
       "      <td>0.0</td>\n",
       "      <td>1.0</td>\n",
       "      <td>-722590</td>\n",
       "      <td>159876</td>\n",
       "      <td>0</td>\n",
       "      <td>1</td>\n",
       "    </tr>\n",
       "    <tr>\n",
       "      <th>2022-12-21 13:22:33.000512+01:00</th>\n",
       "      <td>-1589230.0</td>\n",
       "      <td>-3265809.0</td>\n",
       "      <td>0.0</td>\n",
       "      <td>1.0</td>\n",
       "      <td>-722607</td>\n",
       "      <td>159935</td>\n",
       "      <td>0</td>\n",
       "      <td>1</td>\n",
       "    </tr>\n",
       "    <tr>\n",
       "      <th>2022-12-21 13:22:33.001024+01:00</th>\n",
       "      <td>-1589060.0</td>\n",
       "      <td>-3265942.0</td>\n",
       "      <td>0.0</td>\n",
       "      <td>1.0</td>\n",
       "      <td>-722454</td>\n",
       "      <td>159756</td>\n",
       "      <td>0</td>\n",
       "      <td>1</td>\n",
       "    </tr>\n",
       "    <tr>\n",
       "      <th>2022-12-21 13:22:33.001536+01:00</th>\n",
       "      <td>-1588942.0</td>\n",
       "      <td>-3266109.0</td>\n",
       "      <td>0.0</td>\n",
       "      <td>1.0</td>\n",
       "      <td>-723029</td>\n",
       "      <td>160062</td>\n",
       "      <td>0</td>\n",
       "      <td>1</td>\n",
       "    </tr>\n",
       "    <tr>\n",
       "      <th>2022-12-21 13:22:33.002048+01:00</th>\n",
       "      <td>-1588920.0</td>\n",
       "      <td>-3265964.0</td>\n",
       "      <td>0.0</td>\n",
       "      <td>1.0</td>\n",
       "      <td>-722576</td>\n",
       "      <td>159792</td>\n",
       "      <td>0</td>\n",
       "      <td>1</td>\n",
       "    </tr>\n",
       "    <tr>\n",
       "      <th>...</th>\n",
       "      <td>...</td>\n",
       "      <td>...</td>\n",
       "      <td>...</td>\n",
       "      <td>...</td>\n",
       "      <td>...</td>\n",
       "      <td>...</td>\n",
       "      <td>...</td>\n",
       "      <td>...</td>\n",
       "    </tr>\n",
       "    <tr>\n",
       "      <th>2022-12-21 13:45:05.168960+01:00</th>\n",
       "      <td>NaN</td>\n",
       "      <td>NaN</td>\n",
       "      <td>NaN</td>\n",
       "      <td>NaN</td>\n",
       "      <td>-242997</td>\n",
       "      <td>6324</td>\n",
       "      <td>0</td>\n",
       "      <td>0</td>\n",
       "    </tr>\n",
       "    <tr>\n",
       "      <th>2022-12-21 13:45:05.169472+01:00</th>\n",
       "      <td>NaN</td>\n",
       "      <td>NaN</td>\n",
       "      <td>NaN</td>\n",
       "      <td>NaN</td>\n",
       "      <td>-243143</td>\n",
       "      <td>6365</td>\n",
       "      <td>0</td>\n",
       "      <td>0</td>\n",
       "    </tr>\n",
       "    <tr>\n",
       "      <th>2022-12-21 13:45:05.169984+01:00</th>\n",
       "      <td>NaN</td>\n",
       "      <td>NaN</td>\n",
       "      <td>NaN</td>\n",
       "      <td>NaN</td>\n",
       "      <td>-243205</td>\n",
       "      <td>6282</td>\n",
       "      <td>0</td>\n",
       "      <td>0</td>\n",
       "    </tr>\n",
       "    <tr>\n",
       "      <th>2022-12-21 13:45:05.170496+01:00</th>\n",
       "      <td>NaN</td>\n",
       "      <td>NaN</td>\n",
       "      <td>NaN</td>\n",
       "      <td>NaN</td>\n",
       "      <td>-243053</td>\n",
       "      <td>6465</td>\n",
       "      <td>0</td>\n",
       "      <td>0</td>\n",
       "    </tr>\n",
       "    <tr>\n",
       "      <th>2022-12-21 13:45:05.171008+01:00</th>\n",
       "      <td>NaN</td>\n",
       "      <td>NaN</td>\n",
       "      <td>NaN</td>\n",
       "      <td>NaN</td>\n",
       "      <td>-243274</td>\n",
       "      <td>6251</td>\n",
       "      <td>0</td>\n",
       "      <td>0</td>\n",
       "    </tr>\n",
       "  </tbody>\n",
       "</table>\n",
       "<p>2640960 rows × 8 columns</p>\n",
       "</div>"
      ],
      "text/plain": [
       "node                                   rad1                              \\\n",
       "channel                                   I          Q Sync_In Sync_Out   \n",
       "date (Europe/Berlin)                                                      \n",
       "2022-12-21 13:22:33+01:00        -1589048.0 -3265592.0     0.0      1.0   \n",
       "2022-12-21 13:22:33.000512+01:00 -1589230.0 -3265809.0     0.0      1.0   \n",
       "2022-12-21 13:22:33.001024+01:00 -1589060.0 -3265942.0     0.0      1.0   \n",
       "2022-12-21 13:22:33.001536+01:00 -1588942.0 -3266109.0     0.0      1.0   \n",
       "2022-12-21 13:22:33.002048+01:00 -1588920.0 -3265964.0     0.0      1.0   \n",
       "...                                     ...        ...     ...      ...   \n",
       "2022-12-21 13:45:05.168960+01:00        NaN        NaN     NaN      NaN   \n",
       "2022-12-21 13:45:05.169472+01:00        NaN        NaN     NaN      NaN   \n",
       "2022-12-21 13:45:05.169984+01:00        NaN        NaN     NaN      NaN   \n",
       "2022-12-21 13:45:05.170496+01:00        NaN        NaN     NaN      NaN   \n",
       "2022-12-21 13:45:05.171008+01:00        NaN        NaN     NaN      NaN   \n",
       "\n",
       "node                                rad2                           \n",
       "channel                                I       Q Sync_In Sync_Out  \n",
       "date (Europe/Berlin)                                               \n",
       "2022-12-21 13:22:33+01:00        -722590  159876       0        1  \n",
       "2022-12-21 13:22:33.000512+01:00 -722607  159935       0        1  \n",
       "2022-12-21 13:22:33.001024+01:00 -722454  159756       0        1  \n",
       "2022-12-21 13:22:33.001536+01:00 -723029  160062       0        1  \n",
       "2022-12-21 13:22:33.002048+01:00 -722576  159792       0        1  \n",
       "...                                  ...     ...     ...      ...  \n",
       "2022-12-21 13:45:05.168960+01:00 -242997    6324       0        0  \n",
       "2022-12-21 13:45:05.169472+01:00 -243143    6365       0        0  \n",
       "2022-12-21 13:45:05.169984+01:00 -243205    6282       0        0  \n",
       "2022-12-21 13:45:05.170496+01:00 -243053    6465       0        0  \n",
       "2022-12-21 13:45:05.171008+01:00 -243274    6251       0        0  \n",
       "\n",
       "[2640960 rows x 8 columns]"
      ]
     },
     "execution_count": 8,
     "metadata": {},
     "output_type": "execute_result"
    }
   ],
   "source": [
    "radar_data"
   ]
  },
  {
   "cell_type": "code",
   "execution_count": 9,
   "metadata": {},
   "outputs": [
    {
     "data": {
      "text/plain": [
       "1953.125"
      ]
     },
     "execution_count": 9,
     "metadata": {},
     "output_type": "execute_result"
    }
   ],
   "source": [
    "fs"
   ]
  },
  {
   "attachments": {},
   "cell_type": "markdown",
   "metadata": {},
   "source": [
    "<span style=\"color:#FF7F50\">Get the raw biopac data for the subset and only look at the ECG part</span>"
   ]
  },
  {
   "cell_type": "code",
   "execution_count": 10,
   "metadata": {},
   "outputs": [
    {
     "data": {
      "text/plain": [
       "date (Europe/Berlin)\n",
       "2022-12-21 13:22:38.440000+01:00       0.256348\n",
       "2022-12-21 13:22:38.441000+01:00       0.254211\n",
       "2022-12-21 13:22:38.442000001+01:00    0.257568\n",
       "2022-12-21 13:22:38.443000002+01:00    0.261841\n",
       "2022-12-21 13:22:38.444000003+01:00    0.263672\n",
       "                                         ...   \n",
       "2022-12-21 13:45:11.285999997+01:00    0.018921\n",
       "2022-12-21 13:45:11.286999998+01:00    0.013428\n",
       "2022-12-21 13:45:11.287999999+01:00    0.014038\n",
       "2022-12-21 13:45:11.288999999+01:00    0.021973\n",
       "2022-12-21 13:45:11.290000+01:00       0.021362\n",
       "Name: ecg, Length: 1352850, dtype: float64"
      ]
     },
     "execution_count": 10,
     "metadata": {},
     "output_type": "execute_result"
    }
   ],
   "source": [
    "subset.biopac['ecg']"
   ]
  },
  {
   "cell_type": "code",
   "execution_count": 11,
   "metadata": {},
   "outputs": [
    {
     "data": {
      "text/plain": [
       "1.0"
      ]
     },
     "execution_count": 11,
     "metadata": {},
     "output_type": "execute_result"
    }
   ],
   "source": [
    "max(radar_data[\"rad1\"][\"Sync_In\"])"
   ]
  },
  {
   "attachments": {},
   "cell_type": "markdown",
   "metadata": {},
   "source": [
    "<span style=\"color:#FF7F50\">Plot the Sync-In channel of radar sensor 1 for the subset</span>"
   ]
  },
  {
   "cell_type": "code",
   "execution_count": 12,
   "metadata": {},
   "outputs": [
    {
     "data": {
      "text/plain": [
       "[<matplotlib.lines.Line2D at 0x28f70c66170>]"
      ]
     },
     "execution_count": 12,
     "metadata": {},
     "output_type": "execute_result"
    },
    {
     "data": {
      "image/png": "[encoded data removed]",
      "text/plain": [
       "<Figure size 640x480 with 1 Axes>"
      ]
     },
     "metadata": {},
     "output_type": "display_data"
    }
   ],
   "source": [
    "plt.plot(radar_data[\"rad1\"][\"Sync_In\"])"
   ]
  },
  {
   "attachments": {},
   "cell_type": "markdown",
   "metadata": {},
   "source": [
    "<span style=\"color:#FF7F50\">Synchronize Biopac and Radar Data (-> Cut to sync start), align the sampling rates to 1000Hz, align the signals to have the same time-index, and cut away everything after the end of Pause_5\n",
    "</span>"
   ]
  },
  {
   "cell_type": "code",
   "execution_count": 8,
   "metadata": {},
   "outputs": [
    {
     "data": {
      "text/plain": [
       "[MicroBaseDataset(subject='VP_01', condition='tsst'),\n",
       " MicroBaseDataset(subject='VP_01', condition='ftsst'),\n",
       " MicroBaseDataset(subject='VP_02', condition='tsst'),\n",
       " MicroBaseDataset(subject='VP_02', condition='ftsst'),\n",
       " MicroBaseDataset(subject='VP_03', condition='tsst'),\n",
       " MicroBaseDataset(subject='VP_03', condition='ftsst'),\n",
       " MicroBaseDataset(subject='VP_04', condition='tsst'),\n",
       " MicroBaseDataset(subject='VP_04', condition='ftsst'),\n",
       " MicroBaseDataset(subject='VP_05', condition='tsst'),\n",
       " MicroBaseDataset(subject='VP_05', condition='ftsst')]"
      ]
     },
     "execution_count": 8,
     "metadata": {},
     "output_type": "execute_result"
    }
   ],
   "source": [
    "subset.groupby(groupby_cols=[\"subject\", \"condition\"]).groups"
   ]
  },
  {
   "cell_type": "code",
   "execution_count": 34,
   "metadata": {},
   "outputs": [],
   "source": [
    "synced_data = subset.emrad_biopac_synced_and_sr_aligned"
   ]
  },
  {
   "cell_type": "code",
   "execution_count": 35,
   "metadata": {},
   "outputs": [
    {
     "data": {
      "text/plain": [
       "dict_keys(['Biopac_aligned__resampled_', 'rad1_aligned__resampled_', 'rad2_aligned__resampled_'])"
      ]
     },
     "execution_count": 35,
     "metadata": {},
     "output_type": "execute_result"
    }
   ],
   "source": [
    "synced_data.keys()"
   ]
  },
  {
   "cell_type": "code",
   "execution_count": 10,
   "metadata": {},
   "outputs": [
    {
     "data": {
      "text/plain": [
       "{'Biopac_aligned__resampled_':                                           ecg       rsp    icg_mag      sync  \\\n",
       " date (Europe/Berlin)                                                           \n",
       " 2022-12-21 13:22:48.853007697+01:00  0.295715  9.999695  49.998474  4.159698   \n",
       " 2022-12-21 13:22:48.854007697+01:00  0.305481  9.999695  49.998474  0.211945   \n",
       " 2022-12-21 13:22:48.855007697+01:00  0.328979  9.999695  49.998474  0.212097   \n",
       " 2022-12-21 13:22:48.856007697+01:00  0.360107  9.999695  49.998474  0.211792   \n",
       " 2022-12-21 13:22:48.857007697+01:00  0.381470  9.999695  49.998474  0.211945   \n",
       " ...                                       ...       ...        ...       ...   \n",
       " 2022-12-21 13:43:45.995007697+01:00 -0.067444  9.999695  49.998474  0.211945   \n",
       " 2022-12-21 13:43:45.996007697+01:00 -0.069275  9.999695  49.998474  0.211792   \n",
       " 2022-12-21 13:43:45.997007697+01:00 -0.071411  9.999695  49.998474  0.211945   \n",
       " 2022-12-21 13:43:45.998007697+01:00 -0.075378  9.999695  49.998474  0.211945   \n",
       " 2022-12-21 13:43:45.999007697+01:00 -0.078735  9.999695  49.998474  0.211792   \n",
       " \n",
       "                                       icg_der  \n",
       " date (Europe/Berlin)                           \n",
       " 2022-12-21 13:22:48.853007697+01:00  2.231445  \n",
       " 2022-12-21 13:22:48.854007697+01:00  2.266235  \n",
       " 2022-12-21 13:22:48.855007697+01:00  2.303467  \n",
       " 2022-12-21 13:22:48.856007697+01:00  2.337646  \n",
       " 2022-12-21 13:22:48.857007697+01:00  2.368774  \n",
       " ...                                       ...  \n",
       " 2022-12-21 13:43:45.995007697+01:00  0.035400  \n",
       " 2022-12-21 13:43:45.996007697+01:00  0.062256  \n",
       " 2022-12-21 13:43:45.997007697+01:00  0.094604  \n",
       " 2022-12-21 13:43:45.998007697+01:00  0.130615  \n",
       " 2022-12-21 13:43:45.999007697+01:00  0.168457  \n",
       " \n",
       " [1257147 rows x 5 columns],\n",
       " 'rad1_aligned__resampled_': channel                                         I             Q   Sync_In  \\\n",
       " date (Europe/Berlin)                                                        \n",
       " 2022-12-21 13:22:48.853007697+01:00 -1.168995e+06 -2.396654e+06  0.715214   \n",
       " 2022-12-21 13:22:48.854007697+01:00 -1.726130e+06 -3.538865e+06  1.144086   \n",
       " 2022-12-21 13:22:48.855007697+01:00 -1.509243e+06 -3.094399e+06  0.255998   \n",
       " 2022-12-21 13:22:48.856007697+01:00 -1.646794e+06 -3.376585e+06 -0.055559   \n",
       " 2022-12-21 13:22:48.857007697+01:00 -1.550675e+06 -3.179479e+06  0.027384   \n",
       " ...                                           ...           ...       ...   \n",
       " 2022-12-21 13:43:45.995007697+01:00 -1.564036e+06 -2.960796e+06  0.000000   \n",
       " 2022-12-21 13:43:45.996007697+01:00 -1.563954e+06 -2.960505e+06  0.000000   \n",
       " 2022-12-21 13:43:45.997007697+01:00 -1.564108e+06 -2.960637e+06  0.000000   \n",
       " 2022-12-21 13:43:45.998007697+01:00 -1.564372e+06 -2.960273e+06  0.000000   \n",
       " 2022-12-21 13:43:45.999007697+01:00 -1.564483e+06 -2.960485e+06  0.000000   \n",
       " \n",
       " channel                              Sync_Out  \n",
       " date (Europe/Berlin)                           \n",
       " 2022-12-21 13:22:48.853007697+01:00  0.734845  \n",
       " 2022-12-21 13:22:48.854007697+01:00  1.085064  \n",
       " 2022-12-21 13:22:48.855007697+01:00  0.948859  \n",
       " 2022-12-21 13:22:48.856007697+01:00  1.035412  \n",
       " 2022-12-21 13:22:48.857007697+01:00  0.974935  \n",
       " ...                                       ...  \n",
       " 2022-12-21 13:43:45.995007697+01:00  1.000037  \n",
       " 2022-12-21 13:43:45.996007697+01:00  1.000037  \n",
       " 2022-12-21 13:43:45.997007697+01:00  1.000038  \n",
       " 2022-12-21 13:43:45.998007697+01:00  1.000038  \n",
       " 2022-12-21 13:43:45.999007697+01:00  1.000038  \n",
       " \n",
       " [1257147 rows x 4 columns],\n",
       " 'rad2_aligned__resampled_': channel                                         I              Q   Sync_In  \\\n",
       " date (Europe/Berlin)                                                         \n",
       " 2022-12-21 13:22:48.853007697+01:00 -5.338334e+05  117805.351562  0.715214   \n",
       " 2022-12-21 13:22:48.854007697+01:00 -7.883877e+05  173825.328125  1.144086   \n",
       " 2022-12-21 13:22:48.855007697+01:00 -6.893549e+05  152009.343750  0.255998   \n",
       " 2022-12-21 13:22:48.856007697+01:00 -7.519986e+05  166064.125000 -0.055559   \n",
       " 2022-12-21 13:22:48.857007697+01:00 -7.083499e+05  156015.906250  0.027384   \n",
       " ...                                           ...            ...       ...   \n",
       " 2022-12-21 13:43:45.995007697+01:00 -1.376314e+06  993225.000000  0.000000   \n",
       " 2022-12-21 13:43:45.996007697+01:00 -1.376629e+06  992068.500000  0.000000   \n",
       " 2022-12-21 13:43:45.997007697+01:00 -1.377184e+06  991211.312500  0.000000   \n",
       " 2022-12-21 13:43:45.998007697+01:00 -1.377320e+06  990174.500000  0.000000   \n",
       " 2022-12-21 13:43:45.999007697+01:00 -1.377673e+06  989190.750000  0.000000   \n",
       " \n",
       " channel                              Sync_Out  \n",
       " date (Europe/Berlin)                           \n",
       " 2022-12-21 13:22:48.853007697+01:00  0.734845  \n",
       " 2022-12-21 13:22:48.854007697+01:00  1.085065  \n",
       " 2022-12-21 13:22:48.855007697+01:00  0.948859  \n",
       " 2022-12-21 13:22:48.856007697+01:00  1.035412  \n",
       " 2022-12-21 13:22:48.857007697+01:00  0.974935  \n",
       " ...                                       ...  \n",
       " 2022-12-21 13:43:45.995007697+01:00  1.000938  \n",
       " 2022-12-21 13:43:45.996007697+01:00  0.999326  \n",
       " 2022-12-21 13:43:45.997007697+01:00  1.000554  \n",
       " 2022-12-21 13:43:45.998007697+01:00  0.999702  \n",
       " 2022-12-21 13:43:45.999007697+01:00  1.000223  \n",
       " \n",
       " [1257147 rows x 4 columns]}"
      ]
     },
     "execution_count": 10,
     "metadata": {},
     "output_type": "execute_result"
    }
   ],
   "source": [
    "synced_data"
   ]
  },
  {
   "attachments": {},
   "cell_type": "markdown",
   "metadata": {},
   "source": [
    "<span style=\"color:#FF7F50\">Test the Lowpass and Highpass TPCP-Algorithm classes</span>"
   ]
  },
  {
   "cell_type": "code",
   "execution_count": 7,
   "metadata": {},
   "outputs": [
    {
     "data": {
      "image/png": "[encoded data removed]",
      "text/plain": [
       "<Figure size 640x480 with 1 Axes>"
      ]
     },
     "metadata": {},
     "output_type": "display_data"
    }
   ],
   "source": [
    "freq_1 = 2\n",
    "freq_2 = 6\n",
    "samples = np.linspace(0, 2, 300)\n",
    "sinus = pd.Series(np.sin(2*np.pi*freq_1*samples) + np.sin(2*np.pi*freq_2*samples))\n",
    "lowpass_filter = ButterLowpassFilter(3)\n",
    "highpass_filter = ButterHighpassFilter(3)\n",
    "lowpass_filter.filter(sinus, 150)\n",
    "highpass_filter.filter(sinus, 150)\n",
    "fig, ax = plt.subplots()\n",
    "ax.plot(sinus)\n",
    "ax.plot(lowpass_filter.filtered_signal_)\n",
    "ax.plot(highpass_filter.filtered_signal_)\n",
    "plt.show()"
   ]
  },
  {
   "attachments": {},
   "cell_type": "markdown",
   "metadata": {},
   "source": [
    "<span style=\"color:#FF7F50\">Test generating an envelope signal</span>"
   ]
  },
  {
   "cell_type": "code",
   "execution_count": 15,
   "metadata": {},
   "outputs": [
    {
     "data": {
      "text/plain": [
       "'Length of the envelope signal is 1257147 which corresponds to approx. 21 minutes for a sampling rate of 1000Hz'"
      ]
     },
     "execution_count": 15,
     "metadata": {},
     "output_type": "execute_result"
    }
   ],
   "source": [
    "sample_radar = synced_data[\"rad1_aligned__resampled_\"]\n",
    "# highpass filtering has been forgotten here\n",
    "rad_power = np.sqrt(np.square(sample_radar[\"I\"])+np.square(sample_radar[\"Q\"]))\n",
    "heart_sound_band = ButterBandpassFilter().filter(rad_power, 1000).filtered_signal_\n",
    "heart_sound_band_envelope = ComputeEnvelopeSignal().compute(heart_sound_band).envelope_signal_\n",
    "f\"Length of the envelope signal is {len(heart_sound_band_envelope)} which corresponds to approx. 21 minutes for a sampling rate of 1000Hz\""
   ]
  },
  {
   "cell_type": "code",
   "execution_count": 12,
   "metadata": {},
   "outputs": [
    {
     "name": "stderr",
     "output_type": "stream",
     "text": [
      "C:\\Users\\clark\\AppData\\Local\\Temp\\ipykernel_13640\\3578582887.py:5: UserWarning: Matplotlib is currently using module://matplotlib_inline.backend_inline, which is a non-GUI backend, so cannot show the figure.\n",
      "  fig.show()\n"
     ]
    },
    {
     "data": {
      "image/png": "[encoded data removed]",
      "text/plain": [
       "<Figure size 640x480 with 3 Axes>"
      ]
     },
     "metadata": {},
     "output_type": "display_data"
    }
   ],
   "source": [
    "fig, axs = plt.subplots(1, 3, sharey=False)\n",
    "axs[0].plot(rad_power[2000:1000000])\n",
    "axs[1].plot(heart_sound_band[2000:1000000])\n",
    "axs[2].plot(heart_sound_band_envelope[2000:1000000])\n",
    "fig.show()"
   ]
  },
  {
   "cell_type": "code",
   "execution_count": 13,
   "metadata": {},
   "outputs": [
    {
     "data": {
      "text/plain": [
       "[<matplotlib.lines.Line2D at 0x1ea240f91e0>]"
      ]
     },
     "execution_count": 13,
     "metadata": {},
     "output_type": "execute_result"
    },
    {
     "data": {
      "image/png": "[encoded data removed]",
      "text/plain": [
       "<Figure size 640x480 with 1 Axes>"
      ]
     },
     "metadata": {},
     "output_type": "display_data"
    }
   ],
   "source": [
    "plt.plot(heart_sound_band_envelope[800000:810000])"
   ]
  },
  {
   "attachments": {},
   "cell_type": "markdown",
   "metadata": {},
   "source": [
    "<span style=\"color:#FF7F50\">Test generating peak gaussians</span>"
   ]
  },
  {
   "cell_type": "code",
   "execution_count": 16,
   "metadata": {},
   "outputs": [],
   "source": [
    "sample_ecg = synced_data['Biopac_aligned__resampled_'][\"ecg\"]\n",
    "peak_gaussians = ComputeEcgPeakGaussians()\n",
    "peaks = peak_gaussians.compute(sample_ecg, 1000.0).peak_gaussians_"
   ]
  },
  {
   "cell_type": "code",
   "execution_count": 18,
   "metadata": {},
   "outputs": [
    {
     "data": {
      "text/plain": [
       "'Length of peak signal is 1257147 which is the same length as the radar envelope feature!'"
      ]
     },
     "execution_count": 18,
     "metadata": {},
     "output_type": "execute_result"
    }
   ],
   "source": [
    "f\"Length of peak signal is {len(peaks)} which is the same length as the radar envelope feature!\""
   ]
  },
  {
   "cell_type": "code",
   "execution_count": 19,
   "metadata": {},
   "outputs": [
    {
     "data": {
      "text/plain": [
       "[<matplotlib.lines.Line2D at 0x1ea242d5db0>]"
      ]
     },
     "execution_count": 19,
     "metadata": {},
     "output_type": "execute_result"
    },
    {
     "data": {
      "image/png": "[encoded data removed]",
      "text/plain": [
       "<Figure size 640x480 with 1 Axes>"
      ]
     },
     "metadata": {},
     "output_type": "display_data"
    }
   ],
   "source": [
    "plt.plot(peaks[200:500])"
   ]
  },
  {
   "attachments": {},
   "cell_type": "markdown",
   "metadata": {},
   "source": [
    "<span style=\"color:#FF7F50\">Test Decimation of Envelope by factor 20</span>"
   ]
  },
  {
   "cell_type": "code",
   "execution_count": 35,
   "metadata": {},
   "outputs": [
    {
     "data": {
      "text/plain": [
       "[<matplotlib.lines.Line2D at 0x22502abdb70>]"
      ]
     },
     "execution_count": 35,
     "metadata": {},
     "output_type": "execute_result"
    },
    {
     "data": {
      "image/png": "[encoded data removed]",
      "text/plain": [
       "<Figure size 640x480 with 1 Axes>"
      ]
     },
     "metadata": {},
     "output_type": "display_data"
    }
   ],
   "source": [
    "deciamted_envelope = ComputeDecimateSignal().compute(peaks).downsampled_signal_\n",
    "plt.plot(deciamted_envelope[200:500])"
   ]
  },
  {
   "attachments": {},
   "cell_type": "markdown",
   "metadata": {},
   "source": [
    "<span style=\"color:#FF7F50\">Steps for processing to follow</span> \n",
    "- Decimate the signals to 100 Hz\n",
    "- ECG guassians are again decimated to 10 Hz after creation\n",
    "- Create 3-dimensional input vectors => one row per LSTM input batch, one column for each timestep in a batch and +1 in the third dimension per training feature\n",
    "- Create label vectors => one dimensional gaussian peak signal"
   ]
  },
  {
   "cell_type": "code",
   "execution_count": 2,
   "metadata": {},
   "outputs": [
    {
     "data": {
      "text/html": [
       "<h4 style=\"margin-bottom: 0.1em;\">MicroBaseDataset [38 groups/rows]</h3>\n",
       "<div style=\"margin-top: 0em\">\n",
       "<style scoped>\n",
       "    .dataframe tbody tr th:only-of-type {\n",
       "        vertical-align: middle;\n",
       "    }\n",
       "\n",
       "    .dataframe tbody tr th {\n",
       "        vertical-align: top;\n",
       "    }\n",
       "\n",
       "    .dataframe thead th {\n",
       "        text-align: right;\n",
       "    }\n",
       "</style>\n",
       "<table style=\"margin-left: 3em;\">\n",
       "  <thead>\n",
       "    <tr style=\"text-align: right;\">\n",
       "      <th style=\"text-align: center;\"></th>\n",
       "      <th style=\"text-align: center;\">subject</th>\n",
       "      <th style=\"text-align: center;\">condition</th>\n",
       "      <th style=\"text-align: center;\">phase</th>\n",
       "    </tr>\n",
       "    <tr>\n",
       "      <th style=\"text-align: center;\">subject</th>\n",
       "      <th style=\"text-align: center;\"></th>\n",
       "      <th style=\"text-align: center;\"></th>\n",
       "      <th style=\"text-align: center;\"></th>\n",
       "    </tr>\n",
       "  </thead>\n",
       "  <tbody>\n",
       "    <tr>\n",
       "      <th style=\"text-align: center;\">VP_01</th>\n",
       "      <td style=\"text-align: center; padding-left: 2em; padding-right: 2em;\">VP_01</td>\n",
       "      <td style=\"text-align: center; padding-left: 2em; padding-right: 2em;\">tsst</td>\n",
       "      <td style=\"text-align: center; padding-left: 2em; padding-right: 2em;\">Prep</td>\n",
       "    </tr>\n",
       "    <tr>\n",
       "      <th style=\"text-align: center;\">VP_01</th>\n",
       "      <td style=\"text-align: center; padding-left: 2em; padding-right: 2em;\">VP_01</td>\n",
       "      <td style=\"text-align: center; padding-left: 2em; padding-right: 2em;\">tsst</td>\n",
       "      <td style=\"text-align: center; padding-left: 2em; padding-right: 2em;\">Pause_1</td>\n",
       "    </tr>\n",
       "    <tr>\n",
       "      <th style=\"text-align: center;\">VP_01</th>\n",
       "      <td style=\"text-align: center; padding-left: 2em; padding-right: 2em;\">VP_01</td>\n",
       "      <td style=\"text-align: center; padding-left: 2em; padding-right: 2em;\">tsst</td>\n",
       "      <td style=\"text-align: center; padding-left: 2em; padding-right: 2em;\">Talk</td>\n",
       "    </tr>\n",
       "    <tr>\n",
       "      <th style=\"text-align: center;\">VP_01</th>\n",
       "      <td style=\"text-align: center; padding-left: 2em; padding-right: 2em;\">VP_01</td>\n",
       "      <td style=\"text-align: center; padding-left: 2em; padding-right: 2em;\">tsst</td>\n",
       "      <td style=\"text-align: center; padding-left: 2em; padding-right: 2em;\">Pause_2</td>\n",
       "    </tr>\n",
       "    <tr>\n",
       "      <th style=\"text-align: center;\">VP_01</th>\n",
       "      <td style=\"text-align: center; padding-left: 2em; padding-right: 2em;\">VP_01</td>\n",
       "      <td style=\"text-align: center; padding-left: 2em; padding-right: 2em;\">tsst</td>\n",
       "      <td style=\"text-align: center; padding-left: 2em; padding-right: 2em;\">Pause_3</td>\n",
       "    </tr>\n",
       "    <tr>\n",
       "      <th style=\"text-align: center;\">...</th>\n",
       "      <td style=\"text-align: center; padding-left: 2em; padding-right: 2em;\">...</td>\n",
       "      <td style=\"text-align: center; padding-left: 2em; padding-right: 2em;\">...</td>\n",
       "      <td style=\"text-align: center; padding-left: 2em; padding-right: 2em;\">...</td>\n",
       "    </tr>\n",
       "    <tr>\n",
       "      <th style=\"text-align: center;\">VP_44</th>\n",
       "      <td style=\"text-align: center; padding-left: 2em; padding-right: 2em;\">VP_44</td>\n",
       "      <td style=\"text-align: center; padding-left: 2em; padding-right: 2em;\">ftsst</td>\n",
       "      <td style=\"text-align: center; padding-left: 2em; padding-right: 2em;\">Pause_2</td>\n",
       "    </tr>\n",
       "    <tr>\n",
       "      <th style=\"text-align: center;\">VP_44</th>\n",
       "      <td style=\"text-align: center; padding-left: 2em; padding-right: 2em;\">VP_44</td>\n",
       "      <td style=\"text-align: center; padding-left: 2em; padding-right: 2em;\">ftsst</td>\n",
       "      <td style=\"text-align: center; padding-left: 2em; padding-right: 2em;\">Pause_3</td>\n",
       "    </tr>\n",
       "    <tr>\n",
       "      <th style=\"text-align: center;\">VP_44</th>\n",
       "      <td style=\"text-align: center; padding-left: 2em; padding-right: 2em;\">VP_44</td>\n",
       "      <td style=\"text-align: center; padding-left: 2em; padding-right: 2em;\">ftsst</td>\n",
       "      <td style=\"text-align: center; padding-left: 2em; padding-right: 2em;\">Math</td>\n",
       "    </tr>\n",
       "    <tr>\n",
       "      <th style=\"text-align: center;\">VP_44</th>\n",
       "      <td style=\"text-align: center; padding-left: 2em; padding-right: 2em;\">VP_44</td>\n",
       "      <td style=\"text-align: center; padding-left: 2em; padding-right: 2em;\">ftsst</td>\n",
       "      <td style=\"text-align: center; padding-left: 2em; padding-right: 2em;\">Pause_4</td>\n",
       "    </tr>\n",
       "    <tr>\n",
       "      <th style=\"text-align: center;\">VP_44</th>\n",
       "      <td style=\"text-align: center; padding-left: 2em; padding-right: 2em;\">VP_44</td>\n",
       "      <td style=\"text-align: center; padding-left: 2em; padding-right: 2em;\">ftsst</td>\n",
       "      <td style=\"text-align: center; padding-left: 2em; padding-right: 2em;\">Pause_5</td>\n",
       "    </tr>\n",
       "  </tbody>\n",
       "</table>\n",
       "<p>608 rows × 3 columns</p>\n",
       "</div>"
      ],
      "text/plain": [
       "MicroBaseDataset [38 groups/rows]\n",
       "\n",
       "           subject condition    phase\n",
       "   subject                           \n",
       "   VP_01     VP_01      tsst     Prep\n",
       "   VP_01     VP_01      tsst  Pause_1\n",
       "   VP_01     VP_01      tsst     Talk\n",
       "   VP_01     VP_01      tsst  Pause_2\n",
       "   VP_01     VP_01      tsst  Pause_3\n",
       "   ...         ...       ...      ...\n",
       "   VP_44     VP_44     ftsst  Pause_2\n",
       "   VP_44     VP_44     ftsst  Pause_3\n",
       "   VP_44     VP_44     ftsst     Math\n",
       "   VP_44     VP_44     ftsst  Pause_4\n",
       "   VP_44     VP_44     ftsst  Pause_5\n",
       "   \n",
       "   [608 rows x 3 columns]"
      ]
     },
     "execution_count": 2,
     "metadata": {},
     "output_type": "execute_result"
    }
   ],
   "source": [
    "# set up training data and labels\n",
    "\n",
    "# 400 Timesteps representing a time window of 4 seconds as one input\n",
    "TIMESTEPS = 400\n",
    "# per one input (4 seconds window) we have one feature being the envelope per radar sensor\n",
    "num_features_sit = 2\n",
    "num_features_stand = 4\n",
    "# and we train with the data of 5 participants (both conditions)\n",
    "base_path_str = r\"C:\\Users\\clark\\Documents\\Studium\\Bachelorarbeit\\data\"\n",
    "test_data = MicroBaseDataset(Path(base_path_str), use_cache=False, exclude_missing_data=True)\n",
    "test_data.groupby([\"subject\"])"
   ]
  },
  {
   "cell_type": "code",
   "execution_count": 47,
   "metadata": {},
   "outputs": [
    {
     "data": {
      "text/plain": [
       "0      VP_01\n",
       "1      VP_01\n",
       "2      VP_01\n",
       "3      VP_01\n",
       "4      VP_01\n",
       "       ...  \n",
       "635    VP_44\n",
       "636    VP_44\n",
       "637    VP_44\n",
       "638    VP_44\n",
       "639    VP_44\n",
       "Name: subject, Length: 640, dtype: string"
      ]
     },
     "execution_count": 47,
     "metadata": {},
     "output_type": "execute_result"
    }
   ],
   "source": [
    "test_data.index[\"subject\"].astype(\"string\")"
   ]
  },
  {
   "cell_type": "code",
   "execution_count": 4,
   "metadata": {},
   "outputs": [],
   "source": [
    "# get vp ids for sitting and standing experiment protocol\n",
    "vp_sitting = [index for index, row in test_data.sit_stand.iterrows() if row[\"sit_stand\"]==\"SIT\" and index in test_data.index[\"subject\"].values]\n",
    "vp_standing = [index for index, row in test_data.sit_stand.iterrows() if row[\"sit_stand\"]==\"STAND\" and index in test_data.index[\"subject\"].values]"
   ]
  },
  {
   "cell_type": "code",
   "execution_count": 5,
   "metadata": {},
   "outputs": [
    {
     "data": {
      "text/html": [
       "<h4 style=\"margin-bottom: 0.1em;\">MicroBaseDataset [80 groups/rows]</h3>\n",
       "<div style=\"margin-top: 0em\">\n",
       "<style scoped>\n",
       "    .dataframe tbody tr th:only-of-type {\n",
       "        vertical-align: middle;\n",
       "    }\n",
       "\n",
       "    .dataframe tbody tr th {\n",
       "        vertical-align: top;\n",
       "    }\n",
       "\n",
       "    .dataframe thead th {\n",
       "        text-align: right;\n",
       "    }\n",
       "</style>\n",
       "<table style=\"margin-left: 3em;\">\n",
       "  <thead>\n",
       "    <tr style=\"text-align: right;\">\n",
       "      <th style=\"text-align: center;\"></th>\n",
       "      <th style=\"text-align: center;\">subject</th>\n",
       "      <th style=\"text-align: center;\">condition</th>\n",
       "      <th style=\"text-align: center;\">phase</th>\n",
       "    </tr>\n",
       "  </thead>\n",
       "  <tbody>\n",
       "    <tr>\n",
       "      <th style=\"text-align: center;\">0</th>\n",
       "      <td style=\"text-align: center; padding-left: 2em; padding-right: 2em;\">VP_01</td>\n",
       "      <td style=\"text-align: center; padding-left: 2em; padding-right: 2em;\">tsst</td>\n",
       "      <td style=\"text-align: center; padding-left: 2em; padding-right: 2em;\">Prep</td>\n",
       "    </tr>\n",
       "    <tr>\n",
       "      <th style=\"text-align: center;\">1</th>\n",
       "      <td style=\"text-align: center; padding-left: 2em; padding-right: 2em;\">VP_01</td>\n",
       "      <td style=\"text-align: center; padding-left: 2em; padding-right: 2em;\">tsst</td>\n",
       "      <td style=\"text-align: center; padding-left: 2em; padding-right: 2em;\">Pause_1</td>\n",
       "    </tr>\n",
       "    <tr>\n",
       "      <th style=\"text-align: center;\">2</th>\n",
       "      <td style=\"text-align: center; padding-left: 2em; padding-right: 2em;\">VP_01</td>\n",
       "      <td style=\"text-align: center; padding-left: 2em; padding-right: 2em;\">tsst</td>\n",
       "      <td style=\"text-align: center; padding-left: 2em; padding-right: 2em;\">Talk</td>\n",
       "    </tr>\n",
       "    <tr>\n",
       "      <th style=\"text-align: center;\">3</th>\n",
       "      <td style=\"text-align: center; padding-left: 2em; padding-right: 2em;\">VP_01</td>\n",
       "      <td style=\"text-align: center; padding-left: 2em; padding-right: 2em;\">tsst</td>\n",
       "      <td style=\"text-align: center; padding-left: 2em; padding-right: 2em;\">Pause_2</td>\n",
       "    </tr>\n",
       "    <tr>\n",
       "      <th style=\"text-align: center;\">4</th>\n",
       "      <td style=\"text-align: center; padding-left: 2em; padding-right: 2em;\">VP_01</td>\n",
       "      <td style=\"text-align: center; padding-left: 2em; padding-right: 2em;\">tsst</td>\n",
       "      <td style=\"text-align: center; padding-left: 2em; padding-right: 2em;\">Pause_3</td>\n",
       "    </tr>\n",
       "    <tr>\n",
       "      <th style=\"text-align: center;\">...</th>\n",
       "      <td style=\"text-align: center; padding-left: 2em; padding-right: 2em;\">...</td>\n",
       "      <td style=\"text-align: center; padding-left: 2em; padding-right: 2em;\">...</td>\n",
       "      <td style=\"text-align: center; padding-left: 2em; padding-right: 2em;\">...</td>\n",
       "    </tr>\n",
       "    <tr>\n",
       "      <th style=\"text-align: center;\">75</th>\n",
       "      <td style=\"text-align: center; padding-left: 2em; padding-right: 2em;\">VP_12</td>\n",
       "      <td style=\"text-align: center; padding-left: 2em; padding-right: 2em;\">ftsst</td>\n",
       "      <td style=\"text-align: center; padding-left: 2em; padding-right: 2em;\">Pause_2</td>\n",
       "    </tr>\n",
       "    <tr>\n",
       "      <th style=\"text-align: center;\">76</th>\n",
       "      <td style=\"text-align: center; padding-left: 2em; padding-right: 2em;\">VP_12</td>\n",
       "      <td style=\"text-align: center; padding-left: 2em; padding-right: 2em;\">ftsst</td>\n",
       "      <td style=\"text-align: center; padding-left: 2em; padding-right: 2em;\">Pause_3</td>\n",
       "    </tr>\n",
       "    <tr>\n",
       "      <th style=\"text-align: center;\">77</th>\n",
       "      <td style=\"text-align: center; padding-left: 2em; padding-right: 2em;\">VP_12</td>\n",
       "      <td style=\"text-align: center; padding-left: 2em; padding-right: 2em;\">ftsst</td>\n",
       "      <td style=\"text-align: center; padding-left: 2em; padding-right: 2em;\">Math</td>\n",
       "    </tr>\n",
       "    <tr>\n",
       "      <th style=\"text-align: center;\">78</th>\n",
       "      <td style=\"text-align: center; padding-left: 2em; padding-right: 2em;\">VP_12</td>\n",
       "      <td style=\"text-align: center; padding-left: 2em; padding-right: 2em;\">ftsst</td>\n",
       "      <td style=\"text-align: center; padding-left: 2em; padding-right: 2em;\">Pause_4</td>\n",
       "    </tr>\n",
       "    <tr>\n",
       "      <th style=\"text-align: center;\">79</th>\n",
       "      <td style=\"text-align: center; padding-left: 2em; padding-right: 2em;\">VP_12</td>\n",
       "      <td style=\"text-align: center; padding-left: 2em; padding-right: 2em;\">ftsst</td>\n",
       "      <td style=\"text-align: center; padding-left: 2em; padding-right: 2em;\">Pause_5</td>\n",
       "    </tr>\n",
       "  </tbody>\n",
       "</table>\n",
       "<p>80 rows × 3 columns</p>\n",
       "</div>"
      ],
      "text/plain": [
       "MicroBaseDataset [80 groups/rows]\n",
       "\n",
       "      subject condition    phase\n",
       "   0    VP_01      tsst     Prep\n",
       "   1    VP_01      tsst  Pause_1\n",
       "   2    VP_01      tsst     Talk\n",
       "   3    VP_01      tsst  Pause_2\n",
       "   4    VP_01      tsst  Pause_3\n",
       "   ..     ...       ...      ...\n",
       "   75   VP_12     ftsst  Pause_2\n",
       "   76   VP_12     ftsst  Pause_3\n",
       "   77   VP_12     ftsst     Math\n",
       "   78   VP_12     ftsst  Pause_4\n",
       "   79   VP_12     ftsst  Pause_5\n",
       "   \n",
       "   [80 rows x 3 columns]"
      ]
     },
     "execution_count": 5,
     "metadata": {},
     "output_type": "execute_result"
    }
   ],
   "source": [
    "subset = test_data.get_subset(subject = vp_sitting[:5], condition = [\"tsst\", \"ftsst\"])\n",
    "subset"
   ]
  },
  {
   "cell_type": "code",
   "execution_count": 6,
   "metadata": {},
   "outputs": [
    {
     "data": {
      "text/plain": [
       "[MicroBaseDataset(subject='VP_01', condition='tsst'),\n",
       " MicroBaseDataset(subject='VP_01', condition='ftsst'),\n",
       " MicroBaseDataset(subject='VP_04', condition='tsst'),\n",
       " MicroBaseDataset(subject='VP_04', condition='ftsst'),\n",
       " MicroBaseDataset(subject='VP_07', condition='tsst'),\n",
       " MicroBaseDataset(subject='VP_07', condition='ftsst'),\n",
       " MicroBaseDataset(subject='VP_08', condition='tsst'),\n",
       " MicroBaseDataset(subject='VP_08', condition='ftsst'),\n",
       " MicroBaseDataset(subject='VP_12', condition='tsst'),\n",
       " MicroBaseDataset(subject='VP_12', condition='ftsst')]"
      ]
     },
     "execution_count": 6,
     "metadata": {},
     "output_type": "execute_result"
    }
   ],
   "source": [
    "grouped_subset = subset.groupby(['subject', 'condition'])\n",
    "grouped_subset.groups"
   ]
  },
  {
   "cell_type": "code",
   "execution_count": 95,
   "metadata": {},
   "outputs": [],
   "source": [
    "def preprocess_radar(raw_radar: pd.DataFrame):\n",
    "    \"\"\"Preprocess radar data that has been synced and sr aligned already\n",
    "\n",
    "    Args:\n",
    "        raw_radar (pd.DataFrame): synced and sr aligned radar of one antenna\n",
    "    \"\"\"\n",
    "    highpassed_radi = ButterHighpassFilter().filter(raw_radar['I'], sample_frequency_hz=1000)\n",
    "    highpassed_radq = ButterHighpassFilter().filter(raw_radar['Q'], sample_frequency_hz=1000)\n",
    "    rad_power = np.sqrt(np.square(highpassed_radi.filtered_signal_)+np.square(highpassed_radq.filtered_signal_))  \n",
    "    heart_sound_radar = ButterBandpassFilter().filter(rad_power, 1000)\n",
    "    heart_sound_radar_envelope = ComputeEnvelopeSignal().compute(heart_sound_radar.filtered_signal_)\n",
    "    heart_sound_radar_envelope = ComputeDecimateSignal(10).compute(heart_sound_radar_envelope.envelope_signal_).downsampled_signal_\n",
    "    mean = heart_sound_radar_envelope.mean(axis=0)\n",
    "    std = heart_sound_radar_envelope.std(axis=0)\n",
    "    heart_sound_radar_envelope = (heart_sound_radar_envelope - mean) / std\n",
    "    return heart_sound_radar_envelope  "
   ]
  },
  {
   "cell_type": "code",
   "execution_count": 82,
   "metadata": {},
   "outputs": [],
   "source": [
    "def generate_training_input_sitting(dataset:MicroBaseDataset, timesteps:int, stepsize:int):\n",
    "    res = []\n",
    "    for group in dataset:\n",
    "        data_dict = group.emrad_biopac_synced_and_sr_aligned\n",
    "        heart_sound_band_envelope_rad1 = preprocess_radar(data_dict['rad1_aligned__resampled_'])\n",
    "        heart_sound_band_envelope_rad2 = preprocess_radar(data_dict['rad2_aligned__resampled_'])\n",
    "        for i in range(0, len(heart_sound_band_envelope_rad1) - timesteps, stepsize):\n",
    "            rad1 = heart_sound_band_envelope_rad1[i:(i + timesteps)]\n",
    "            rad2 = heart_sound_band_envelope_rad2[i:(i + timesteps)]\n",
    "            rad1 = np.expand_dims(rad1, axis=(1))\n",
    "            rad2 = np.expand_dims(rad2, axis=(1))\n",
    "            combined_rad = np.concatenate((rad1, rad2), axis=1)\n",
    "            res.append(combined_rad)\n",
    "    return np.array(res)"
   ]
  },
  {
   "cell_type": "code",
   "execution_count": 96,
   "metadata": {},
   "outputs": [],
   "source": [
    "input_data = generate_training_input_sitting(grouped_subset, 400, 20)"
   ]
  },
  {
   "cell_type": "code",
   "execution_count": 101,
   "metadata": {},
   "outputs": [],
   "source": [
    "np.save(r\"C:\\Users\\clark\\Documents\\Studium\\Bachelorarbeit\\empkins-micro\\empkins_micro\\emrad\\feature_extraction\\input_array_five_sitting_vps\", input_data)"
   ]
  },
  {
   "cell_type": "code",
   "execution_count": 100,
   "metadata": {},
   "outputs": [
    {
     "data": {
      "text/plain": [
       "numpy.ndarray"
      ]
     },
     "execution_count": 100,
     "metadata": {},
     "output_type": "execute_result"
    }
   ],
   "source": [
    "input_data.shape"
   ]
  },
  {
   "cell_type": "code",
   "execution_count": 98,
   "metadata": {},
   "outputs": [
    {
     "data": {
      "text/plain": [
       "'Shape of gaussian peak signal: (118623,)\\nShape of rad1 envelope: (118623,)'"
      ]
     },
     "execution_count": 98,
     "metadata": {},
     "output_type": "execute_result"
    }
   ],
   "source": [
    "data_dict = grouped_subset[0].emrad_biopac_synced_and_sr_aligned\n",
    "ecg = data_dict[\"Biopac_aligned__resampled_\"]['ecg']\n",
    "ecg = ComputeDecimateSignal(10).compute(ecg).downsampled_signal_\n",
    "peak_gaussian_signal = ComputeEcgPeakGaussians().compute(ecg, 100).peak_gaussians_\n",
    "rad1_env = preprocess_radar(data_dict['rad1_aligned__resampled_'])\n",
    "f\"Shape of gaussian peak signal: {peak_gaussian_signal.shape}; Shape of rad1 envelope: {rad1_env.shape}\"  "
   ]
  },
  {
   "cell_type": "code",
   "execution_count": 93,
   "metadata": {},
   "outputs": [],
   "source": [
    "def generate_training_labels_sitting(dataset:MicroBaseDataset, timesteps:int, stepsize:int):\n",
    "    res = []\n",
    "    for group in dataset:\n",
    "        data_dict = group.emrad_biopac_synced_and_sr_aligned\n",
    "        downsampled_ecg = ComputeDecimateSignal(10).compute(data_dict['Biopac_aligned__resampled_']['ecg']).downsampled_signal_\n",
    "        peak_gaussian_signal = ComputeEcgPeakGaussians().compute(downsampled_ecg, 100).peak_gaussians_\n",
    "        mean = np.mean(peak_gaussian_signal)\n",
    "        std = np.std(peak_gaussian_signal)\n",
    "        peak_gaussian_signal = (peak_gaussian_signal - mean) / std\n",
    "        for i in range(0, len(peak_gaussian_signal) - timesteps, stepsize):\n",
    "            next_sample = peak_gaussian_signal[i:(i + timesteps)]\n",
    "            res.append(next_sample)\n",
    "    return np.array(res)"
   ]
  },
  {
   "cell_type": "code",
   "execution_count": 94,
   "metadata": {},
   "outputs": [
    {
     "name": "stderr",
     "output_type": "stream",
     "text": [
      "c:\\Users\\clark\\Documents\\Studium\\Bachelorarbeit\\empkins-micro\\.venv\\lib\\site-packages\\numpy\\core\\fromnumeric.py:3464: RuntimeWarning: Mean of empty slice.\n",
      "  return _methods._mean(a, axis=axis, dtype=dtype,\n",
      "c:\\Users\\clark\\Documents\\Studium\\Bachelorarbeit\\empkins-micro\\.venv\\lib\\site-packages\\numpy\\core\\_methods.py:192: RuntimeWarning: invalid value encountered in scalar divide\n",
      "  ret = ret.dtype.type(ret / rcount)\n",
      "c:\\Users\\clark\\Documents\\Studium\\Bachelorarbeit\\empkins-micro\\.venv\\lib\\site-packages\\numpy\\core\\fromnumeric.py:3464: RuntimeWarning: Mean of empty slice.\n",
      "  return _methods._mean(a, axis=axis, dtype=dtype,\n",
      "c:\\Users\\clark\\Documents\\Studium\\Bachelorarbeit\\empkins-micro\\.venv\\lib\\site-packages\\numpy\\core\\_methods.py:192: RuntimeWarning: invalid value encountered in scalar divide\n",
      "  ret = ret.dtype.type(ret / rcount)\n"
     ]
    },
    {
     "data": {
      "text/plain": [
       "(59676, 400)"
      ]
     },
     "execution_count": 94,
     "metadata": {},
     "output_type": "execute_result"
    }
   ],
   "source": [
    "input_labels = generate_training_labels_sitting(grouped_subset, 400, 20)\n",
    "input_labels.shape"
   ]
  },
  {
   "cell_type": "code",
   "execution_count": 102,
   "metadata": {},
   "outputs": [],
   "source": [
    "np.save(r\"C:\\Users\\clark\\Documents\\Studium\\Bachelorarbeit\\empkins-micro\\empkins_micro\\emrad\\label_generation\\label_array_five_sitting_vps\", input_labels)"
   ]
  },
  {
   "cell_type": "code",
   "execution_count": 7,
   "metadata": {},
   "outputs": [],
   "source": [
    "input_data = np.load(r\"C:\\Users\\clark\\Documents\\Studium\\Bachelorarbeit\\empkins-micro\\empkins_micro\\emrad\\feature_extraction\\input_array_five_sitting_vps.npy\")\n",
    "input_labels = np.load(r\"C:\\Users\\clark\\Documents\\Studium\\Bachelorarbeit\\empkins-micro\\empkins_micro\\emrad\\label_generation\\label_array_five_sitting_vps.npy\")"
   ]
  },
  {
   "cell_type": "code",
   "execution_count": 14,
   "metadata": {},
   "outputs": [
    {
     "name": "stdout",
     "output_type": "stream",
     "text": [
      "Epoch 1/12\n",
      "1/1 [==============================] - 15s 15s/step - loss: 0.9569 - val_loss: 0.9568\n",
      "Epoch 2/12\n",
      "1/1 [==============================] - 1s 644ms/step - loss: 0.9539 - val_loss: 0.9580\n",
      "Epoch 3/12\n",
      "1/1 [==============================] - 1s 630ms/step - loss: 0.9507 - val_loss: 0.9594\n",
      "Epoch 4/12\n",
      "1/1 [==============================] - 1s 587ms/step - loss: 0.9389 - val_loss: 0.9621\n",
      "Epoch 5/12\n",
      "1/1 [==============================] - 1s 599ms/step - loss: 0.9266 - val_loss: 0.9669\n",
      "Epoch 6/12\n",
      "1/1 [==============================] - 1s 590ms/step - loss: 0.9166 - val_loss: 0.9760\n",
      "Epoch 7/12\n",
      "1/1 [==============================] - 1s 636ms/step - loss: 0.9112 - val_loss: 0.9937\n",
      "Epoch 8/12\n",
      "1/1 [==============================] - 1s 738ms/step - loss: 0.8712 - val_loss: 1.0294\n",
      "Epoch 9/12\n",
      "1/1 [==============================] - 1s 708ms/step - loss: 0.8544 - val_loss: 1.0897\n",
      "Epoch 10/12\n",
      "1/1 [==============================] - 1s 617ms/step - loss: 0.7921 - val_loss: 1.1651\n",
      "Epoch 11/12\n",
      "1/1 [==============================] - 1s 635ms/step - loss: 0.7403 - val_loss: 1.2463\n",
      "Epoch 12/12\n",
      "1/1 [==============================] - 1s 707ms/step - loss: 0.6734 - val_loss: 1.3225\n"
     ]
    },
    {
     "data": {
      "text/plain": [
       "BiLSTM(_model=<keras.src.engine.sequential.Sequential object at 0x0000019B1CB07280>, batch_size=128, bi_lstm_units=64, dense_layer_units=400, first_dropout_rate=0.6, input_shape=(400, 2), learning_rate=0.001, mono_lstm_units=128, num_epochs=12, second_dropout_rate=0.6)"
      ]
     },
     "execution_count": 14,
     "metadata": {},
     "output_type": "execute_result"
    }
   ],
   "source": [
    "# import model algorithm and initialize algorithm instance\n",
    "from empkins_micro.emrad.models.biLSTM import *\n",
    "\n",
    "# input of shape (400,2), i.e. 400 timesteps and two features (rad1_env and rad2_env)\n",
    "myFirstBiLSTM = BiLSTM((input_data.shape[1], input_data.shape[2]))\n",
    "myFirstBiLSTM.self_optimize(input_data[:2,:,:], input_labels[:2,:])"
   ]
  }
 ],
 "metadata": {
  "kernelspec": {
   "display_name": "envBachelorThesis",
   "language": "python",
   "name": "python3"
  },
  "language_info": {
   "codemirror_mode": {
    "name": "ipython",
    "version": 3
   },
   "file_extension": ".py",
   "mimetype": "text/x-python",
   "name": "python",
   "nbconvert_exporter": "python",
   "pygments_lexer": "ipython3",
   "version": "3.10.2"
  },
  "orig_nbformat": 4,
  "vscode": {
   "interpreter": {
    "hash": "1284ff73cebd7e107c5167635eda51bbded99c045ce993c12fa56a0ae33ca380"
   }
  }
 },
 "nbformat": 4,
 "nbformat_minor": 2
}
