{
 "cells": [
  {
   "attachments": {},
   "cell_type": "markdown",
   "metadata": {},
   "source": [
    "Script will fill the ./emrad/processed folder with . files of the dataframes containing radar and biopac data that has been aligned, cut to sync start and radar has been resampled to 1000 Hz"
   ]
  },
  {
   "cell_type": "code",
   "execution_count": 13,
   "metadata": {},
   "outputs": [
    {
     "name": "stdout",
     "output_type": "stream",
     "text": [
      "The autoreload extension is already loaded. To reload it, use:\n",
      "  %reload_ext autoreload\n"
     ]
    }
   ],
   "source": [
    "import pandas as pd\n",
    "from pathlib import Path\n",
    "\n",
    "from empkins_io.datasets.d03.micro_gapvii._dataset import MicroBaseDataset\n",
    "\n",
    "%load_ext autoreload\n",
    "%autoreload 2"
   ]
  },
  {
   "cell_type": "code",
   "execution_count": 11,
   "metadata": {},
   "outputs": [],
   "source": [
    "# Caution! This part removes all files in the ./emrad/processed dir\n",
    "import os\n",
    "import fnmatch\n",
    "import glob\n",
    "import re\n",
    "for raw_emrad_dir in glob.glob(\"C:/Users/clark/Documents/Studium/Bachelorarbeit/data/data_per_subject/VP_[0-9][0-9]/*/emrad/processed\"):\n",
    "    for file in os.listdir(raw_emrad_dir):\n",
    "        os.remove(raw_emrad_dir + \"\\\\\" + file)"
   ]
  },
  {
   "cell_type": "code",
   "execution_count": 15,
   "metadata": {},
   "outputs": [],
   "source": [
    "# Todo: Change the base_path_str variable to point at your ./data folder, then run the script\n",
    "base_path_str = r\"\"\n",
    "\n",
    "data = MicroBaseDataset(Path(base_path_str), use_cache=False)\n",
    "grouped_data = data.groupby(['subject', 'condition'])\n",
    "\n",
    "for row in grouped_data:\n",
    "        \n",
    "        if (row.group[0] in data.MISSING_DATA or row.group[0] in data.MISSING_RADAR_SYNC_IN_PEAKS):\n",
    "            continue\n",
    "\n",
    "        file_path = base_path_str + r\"\\data_per_subject\" + \"\\\\\" + row.group[0] + \"\\\\\" + row.group[1] + r\"\\emrad\\processed\"\n",
    "\n",
    "        aligned_dict = row.emrad_biopac_synced_and_sr_aligned\n",
    "\n",
    "        for k, v in aligned_dict.items():\n",
    "\n",
    "            file_path_ = file_path + \"\\\\\" + k + \".pkl\"\n",
    "            v.to_pickle(file_path_)"
   ]
  }
 ],
 "metadata": {
  "kernelspec": {
   "display_name": ".venv",
   "language": "python",
   "name": "python3"
  },
  "language_info": {
   "codemirror_mode": {
    "name": "ipython",
    "version": 3
   },
   "file_extension": ".py",
   "mimetype": "text/x-python",
   "name": "python",
   "nbconvert_exporter": "python",
   "pygments_lexer": "ipython3",
   "version": "3.10.2"
  },
  "orig_nbformat": 4
 },
 "nbformat": 4,
 "nbformat_minor": 2
}
