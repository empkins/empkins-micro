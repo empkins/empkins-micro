{
 "cells": [
  {
   "cell_type": "markdown",
   "metadata": {},
   "source": [
    "# Clean Time Logs"
   ]
  },
  {
   "cell_type": "code",
   "execution_count": null,
   "metadata": {},
   "outputs": [],
   "source": [
    "import sys\n",
    "sys.path.append(\"../../scripts\")\n",
    "\n",
    "from pathlib import Path\n",
    "\n",
    "import pandas as pd\n",
    "import numpy as np\n",
    "import pingouin as pg\n",
    "\n",
    "import biopsykit as bp\n",
    "from biopsykit.utils.file_handling import get_subject_dirs\n",
    "from biopsykit.utils.time import timedelta_to_time, get_time_from_date\n",
    "\n",
    "from time_logs import process_time_log\n",
    "\n",
    "from tqdm.notebook import tqdm\n",
    "\n",
    "%load_ext autoreload\n",
    "%autoreload 2\n",
    "%matplotlib widget"
   ]
  },
  {
   "cell_type": "code",
   "execution_count": null,
   "metadata": {},
   "outputs": [],
   "source": [
    "base_path = Path(\"../../../../../../HealthPsychology_D03/Data/2021_06_Micro_Prestudy\")\n",
    "data_path = base_path.joinpath(\"data_per_subject\")\n",
    "subject_dirs = get_subject_dirs(data_path, \"VP_*\")\n",
    "\n",
    "subject_dirs"
   ]
  },
  {
   "cell_type": "code",
   "execution_count": null,
   "metadata": {},
   "outputs": [],
   "source": [
    "for subject_dir in tqdm(subject_dirs):\n",
    "    subject_id = subject_dir.name\n",
    "    for condition in [\"control\", \"stress\"]:\n",
    "        timelog_dir = subject_dir.joinpath(\"{}/time_log\".format(condition))\n",
    "        cleaned_dir = timelog_dir.joinpath(\"cleaned\")\n",
    "        \n",
    "        timelogs = list(cleaned_dir.glob(\"*.csv\"))\n",
    "        if len(timelogs) == 0:\n",
    "            print(f\"No time logs for {subject_id}-{condition}.\")\n",
    "            continue\n",
    "        timelog = process_time_log(list(cleaned_dir.glob(\"*.csv\"))[0])\n",
    "        timelog.columns = [\"_\".join(col) for col in timelog.columns]\n",
    "        \n",
    "        timelog = timelog.apply(lambda series: timedelta_to_time(get_time_from_date(series)))\n",
    "\n",
    "        processed_dir = timelog_dir.joinpath(\"processed\")\n",
    "        processed_dir.mkdir(exist_ok=True)\n",
    "        timelog.to_csv(processed_dir.joinpath(\"time_log_{}.csv\".format(subject_id)))"
   ]
  },
  {
   "cell_type": "code",
   "execution_count": null,
   "metadata": {},
   "outputs": [],
   "source": []
  }
 ],
 "metadata": {
  "kernelspec": {
   "display_name": "empkins",
   "language": "python",
   "name": "empkins"
  },
  "language_info": {
   "codemirror_mode": {
    "name": "ipython",
    "version": 3
   },
   "file_extension": ".py",
   "mimetype": "text/x-python",
   "name": "python",
   "nbconvert_exporter": "python",
   "pygments_lexer": "ipython3",
   "version": "3.8.3"
  }
 },
 "nbformat": 4,
 "nbformat_minor": 4
}
