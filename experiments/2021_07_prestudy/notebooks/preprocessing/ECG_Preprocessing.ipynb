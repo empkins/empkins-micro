{
 "cells": [
  {
   "cell_type": "markdown",
   "metadata": {},
   "source": [
    "# EmpkinS Micro – ECG Data Preprocessing"
   ]
  },
  {
   "cell_type": "code",
   "execution_count": 3,
   "metadata": {},
   "outputs": [
    {
     "name": "stdout",
     "output_type": "stream",
     "text": [
      "The autoreload extension is already loaded. To reload it, use:\n",
      "  %reload_ext autoreload\n"
     ]
    }
   ],
   "source": [
    "from pathlib import Path\n",
    "\n",
    "import pandas as pd\n",
    "import numpy as np\n",
    "import pingouin as pg\n",
    "\n",
    "import biopsykit as bp\n",
    "\n",
    "from tqdm.notebook import tqdm\n",
    "\n",
    "from empkins_micro.time_logs import load_split_time_logs\n",
    "\n",
    "import matplotlib.pyplot as plt\n",
    "import seaborn as sns\n",
    "\n",
    "%load_ext autoreload\n",
    "%autoreload 2\n",
    "%matplotlib widget"
   ]
  },
  {
   "cell_type": "code",
   "execution_count": 4,
   "metadata": {},
   "outputs": [
    {
     "data": {
      "text/html": [
       "<svg  width=\"330\" height=\"55\"><rect x=\"0\" y=\"0\" width=\"55\" height=\"55\" style=\"fill:#003865;stroke-width:2;stroke:rgb(255,255,255)\"/><rect x=\"55\" y=\"0\" width=\"55\" height=\"55\" style=\"fill:#98a4ae;stroke-width:2;stroke:rgb(255,255,255)\"/><rect x=\"110\" y=\"0\" width=\"55\" height=\"55\" style=\"fill:#c99313;stroke-width:2;stroke:rgb(255,255,255)\"/><rect x=\"165\" y=\"0\" width=\"55\" height=\"55\" style=\"fill:#00b1eb;stroke-width:2;stroke:rgb(255,255,255)\"/><rect x=\"220\" y=\"0\" width=\"55\" height=\"55\" style=\"fill:#009b77;stroke-width:2;stroke:rgb(255,255,255)\"/><rect x=\"275\" y=\"0\" width=\"55\" height=\"55\" style=\"fill:#8d1429;stroke-width:2;stroke:rgb(255,255,255)\"/></svg>"
      ],
      "text/plain": [
       "[(0.0, 0.2196078431372549, 0.396078431372549),\n",
       " (0.596078431372549, 0.6431372549019608, 0.6823529411764706),\n",
       " (0.788235294117647, 0.5764705882352941, 0.07450980392156863),\n",
       " (0.0, 0.6941176470588235, 0.9215686274509803),\n",
       " (0.0, 0.6078431372549019, 0.4666666666666667),\n",
       " (0.5529411764705883, 0.0784313725490196, 0.1607843137254902)]"
      ]
     },
     "execution_count": 4,
     "metadata": {},
     "output_type": "execute_result"
    }
   ],
   "source": [
    "palette = bp.colors.fau_palette\n",
    "sns.set_theme(context=\"notebook\", style=\"ticks\", palette=palette)\n",
    "\n",
    "plt.rcParams['figure.figsize'] = (10, 5)\n",
    "plt.rcParams['pdf.fonttype'] = 42\n",
    "plt.rcParams['mathtext.default'] = \"regular\"\n",
    "\n",
    "palette"
   ]
  },
  {
   "cell_type": "code",
   "execution_count": 13,
   "metadata": {},
   "outputs": [],
   "source": [
    "base_path = Path(\"../../../../../../HealthPsychology_D03/Data/2021_06_Micro_Prestudy\")\n",
    "data_path = base_path.joinpath(\"data_per_subject\")\n",
    "\n",
    "subject_dirs = bp.utils.file_handling.get_subject_dirs(data_path, \"VP_*\")"
   ]
  },
  {
   "cell_type": "code",
   "execution_count": 14,
   "metadata": {},
   "outputs": [
    {
     "data": {
      "text/plain": [
       "[PosixPath('../../../../../../HealthPsychology_D03/Data/2021_06_Micro_Prestudy/data_per_subject/VP_01'),\n",
       " PosixPath('../../../../../../HealthPsychology_D03/Data/2021_06_Micro_Prestudy/data_per_subject/VP_02'),\n",
       " PosixPath('../../../../../../HealthPsychology_D03/Data/2021_06_Micro_Prestudy/data_per_subject/VP_03'),\n",
       " PosixPath('../../../../../../HealthPsychology_D03/Data/2021_06_Micro_Prestudy/data_per_subject/VP_04'),\n",
       " PosixPath('../../../../../../HealthPsychology_D03/Data/2021_06_Micro_Prestudy/data_per_subject/VP_05'),\n",
       " PosixPath('../../../../../../HealthPsychology_D03/Data/2021_06_Micro_Prestudy/data_per_subject/VP_06'),\n",
       " PosixPath('../../../../../../HealthPsychology_D03/Data/2021_06_Micro_Prestudy/data_per_subject/VP_07'),\n",
       " PosixPath('../../../../../../HealthPsychology_D03/Data/2021_06_Micro_Prestudy/data_per_subject/VP_08'),\n",
       " PosixPath('../../../../../../HealthPsychology_D03/Data/2021_06_Micro_Prestudy/data_per_subject/VP_09')]"
      ]
     },
     "execution_count": 14,
     "metadata": {},
     "output_type": "execute_result"
    }
   ],
   "source": [
    "subject_dirs"
   ]
  },
  {
   "cell_type": "code",
   "execution_count": 15,
   "metadata": {},
   "outputs": [
    {
     "data": {
      "application/vnd.jupyter.widget-view+json": {
       "model_id": "fe3b0d61726e420ca589d85edc204d8c",
       "version_major": 2,
       "version_minor": 0
      },
      "text/plain": [
       "Subject:   0%|          | 0/1 [00:00<?, ?it/s]"
      ]
     },
     "metadata": {},
     "output_type": "display_data"
    },
    {
     "data": {
      "application/vnd.jupyter.widget-view+json": {
       "model_id": "c3c1df84c344482194c4eecdcd8fd2f0",
       "version_major": 2,
       "version_minor": 0
      },
      "text/plain": [
       "VP_01:   0%|          | 0/2 [00:00<?, ?it/s]"
      ]
     },
     "metadata": {},
     "output_type": "display_data"
    },
    {
     "data": {
      "application/vnd.jupyter.widget-view+json": {
       "model_id": "3fa4966e88754e788a871338a1e38800",
       "version_major": 2,
       "version_minor": 0
      },
      "text/plain": [
       "control:   0%|          | 0/3 [00:00<?, ?it/s]"
      ]
     },
     "metadata": {},
     "output_type": "display_data"
    },
    {
     "data": {
      "application/vnd.jupyter.widget-view+json": {
       "model_id": "a560badb0d8b4e78bca5e11328940c4c",
       "version_major": 2,
       "version_minor": 0
      },
      "text/plain": [
       "Pre:   0%|          | 0/2 [00:00<?, ?it/s]"
      ]
     },
     "metadata": {},
     "output_type": "display_data"
    },
    {
     "data": {
      "application/vnd.jupyter.widget-view+json": {
       "model_id": "64d9ea991df2413b80963395f3f8441b",
       "version_major": 2,
       "version_minor": 0
      },
      "text/plain": [
       "MIST:   0%|          | 0/9 [00:00<?, ?it/s]"
      ]
     },
     "metadata": {},
     "output_type": "display_data"
    },
    {
     "data": {
      "application/vnd.jupyter.widget-view+json": {
       "model_id": "0859cc18acf34ea9aed6de3d75af176e",
       "version_major": 2,
       "version_minor": 0
      },
      "text/plain": [
       "Post:   0%|          | 0/1 [00:00<?, ?it/s]"
      ]
     },
     "metadata": {},
     "output_type": "display_data"
    },
    {
     "data": {
      "application/vnd.jupyter.widget-view+json": {
       "model_id": "6808b37fffb144478fdf5a7820ff2cd5",
       "version_major": 2,
       "version_minor": 0
      },
      "text/plain": [
       "stress:   0%|          | 0/3 [00:00<?, ?it/s]"
      ]
     },
     "metadata": {},
     "output_type": "display_data"
    },
    {
     "data": {
      "application/vnd.jupyter.widget-view+json": {
       "model_id": "898b888b4ffb48dea89b2614d3f75bb5",
       "version_major": 2,
       "version_minor": 0
      },
      "text/plain": [
       "Pre:   0%|          | 0/2 [00:00<?, ?it/s]"
      ]
     },
     "metadata": {},
     "output_type": "display_data"
    },
    {
     "data": {
      "application/vnd.jupyter.widget-view+json": {
       "model_id": "9427f75125854308b762b14c660d41bb",
       "version_major": 2,
       "version_minor": 0
      },
      "text/plain": [
       "MIST:   0%|          | 0/9 [00:00<?, ?it/s]"
      ]
     },
     "metadata": {},
     "output_type": "display_data"
    },
    {
     "data": {
      "application/vnd.jupyter.widget-view+json": {
       "model_id": "cfdf90b3922345719b21707fa8791859",
       "version_major": 2,
       "version_minor": 0
      },
      "text/plain": [
       "Post:   0%|          | 0/1 [00:00<?, ?it/s]"
      ]
     },
     "metadata": {},
     "output_type": "display_data"
    }
   ],
   "source": [
    "subject_dict = {}\n",
    "\n",
    "for subject_dir in tqdm(subject_dirs[:1], desc=\"Subject\"):\n",
    "    subject_id = subject_dir.name\n",
    "    \n",
    "    for condition in tqdm([\"control\", \"stress\"], desc=subject_id):        \n",
    "        ecg_dir = subject_dir.joinpath(\"{}/ecg\").format(condition)\n",
    "        timelog_dir = subject_dir.joinpath(\"{}/time_log\").format(condition))\n",
    "        timelog_dict = load_split_time_logs(timelog_dir.joinpath(\"processed\"))\n",
    "        \n",
    "        ecg_dict, fs = bp.io.nilspod.load_folder_nilspod(ecg_dir.joinpath(\"raw\"), phase_names=[\"Pre\", \"MIST\", \"Post\"])\n",
    "        \n",
    "        ep_dict = {}\n",
    "        for key_timelog, key_ecg in tqdm(list(zip(timelog_dict, ecg_dict)), desc=condition):\n",
    "            ep = bp.signals.ecg.EcgProcessor(data=ecg_dict[key_ecg], sampling_rate=fs, time_intervals=timelog_dict[key_timelog])\n",
    "            ep.ecg_process(title=key_ecg)\n",
    "            \n",
    "            ep_dict[key_ecg] = ep\n",
    "\n",
    "            ecg_export_dir = ecg_dir.joinpath(\"processed\")\n",
    "            ecg_export_dir.mkdir(exist_ok=True)\n",
    "            bp.io.write_pandas_dict_excel(ep.heart_rate, ecg_export_dir.joinpath(\"heart_rate_result_{}_{}.xlsx\".format(subject_id, key_timelog)))\n",
    "            bp.io.write_pandas_dict_excel(ep.rpeaks, ecg_export_dir.joinpath(\"rpeaks_result_{}_{}.xlsx\".format(subject_id, key_timelog)))\n",
    "            \n",
    "        subject_dict[subject_id] = ep_dict\n"
   ]
  },
  {
   "cell_type": "code",
   "execution_count": 22,
   "metadata": {},
   "outputs": [
    {
     "data": {
      "application/vnd.jupyter.widget-view+json": {
       "model_id": "2b96c2e006434e479739bb38a54f85eb",
       "version_major": 2,
       "version_minor": 0
      },
      "text/plain": [
       "Canvas(toolbar=Toolbar(toolitems=[('Home', 'Reset original view', 'home', 'home'), ('Back', 'Back to previous …"
      ]
     },
     "metadata": {},
     "output_type": "display_data"
    },
    {
     "data": {
      "text/plain": [
       "(<Figure size 1000x500 with 4 Axes>,\n",
       " [<AxesSubplot:ylabel='ECG Signal (z-norm.)'>,\n",
       "  <AxesSubplot:xlabel='Time', ylabel='Heart Rate [bpm]'>,\n",
       "  <AxesSubplot:title={'center':'Individual Heart Beats'}>,\n",
       "  <AxesSubplot:title={'center':'Heart Rate Distribution'}, xlabel='Heart Rate [bpm]'>])"
      ]
     },
     "execution_count": 22,
     "metadata": {},
     "output_type": "execute_result"
    }
   ],
   "source": [
    "bp.signals.ecg.plotting.ecg_plot(ep, key=\"post\")"
   ]
  },
  {
   "cell_type": "code",
   "execution_count": null,
   "metadata": {},
   "outputs": [],
   "source": []
  }
 ],
 "metadata": {
  "kernelspec": {
   "display_name": "empkins",
   "language": "python",
   "name": "empkins"
  },
  "language_info": {
   "codemirror_mode": {
    "name": "ipython",
    "version": 3
   },
   "file_extension": ".py",
   "mimetype": "text/x-python",
   "name": "python",
   "nbconvert_exporter": "python",
   "pygments_lexer": "ipython3",
   "version": "3.8.3"
  }
 },
 "nbformat": 4,
 "nbformat_minor": 4
}
