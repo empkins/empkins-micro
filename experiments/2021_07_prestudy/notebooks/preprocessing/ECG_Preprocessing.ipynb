{
 "cells": [
  {
   "cell_type": "markdown",
   "metadata": {},
   "source": [
    "# EmpkinS Micro – ECG Data Preprocessing"
   ]
  },
  {
   "cell_type": "markdown",
   "metadata": {},
   "source": [
    "## Imports and Helper Functions"
   ]
  },
  {
   "cell_type": "code",
   "execution_count": null,
   "metadata": {},
   "outputs": [],
   "source": [
    "import json\n",
    "import sys\n",
    "sys.path.append(\"../../scripts\")\n",
    "\n",
    "from pathlib import Path\n",
    "\n",
    "import pandas as pd\n",
    "import numpy as np\n",
    "import pingouin as pg\n",
    "\n",
    "import biopsykit as bp\n",
    "from biopsykit.io import write_pandas_dict_excel\n",
    "from biopsykit.io.nilspod import load_dataset_nilspod\n",
    "from biopsykit.signals.ecg import EcgProcessor\n",
    "\n",
    "from tqdm.notebook import tqdm\n",
    "\n",
    "from time_logs import load_split_time_logs\n",
    "\n",
    "import matplotlib.pyplot as plt\n",
    "import seaborn as sns\n",
    "\n",
    "%load_ext autoreload\n",
    "%autoreload 2\n",
    "%matplotlib widget"
   ]
  },
  {
   "cell_type": "code",
   "execution_count": null,
   "metadata": {},
   "outputs": [],
   "source": [
    "palette = bp.colors.fau_palette\n",
    "sns.set_theme(context=\"notebook\", style=\"ticks\", palette=palette)\n",
    "\n",
    "plt.rcParams['figure.figsize'] = (10, 5)\n",
    "plt.rcParams['pdf.fonttype'] = 42\n",
    "plt.rcParams['mathtext.default'] = \"regular\"\n",
    "\n",
    "palette"
   ]
  },
  {
   "cell_type": "markdown",
   "metadata": {},
   "source": [
    "## Variable and Path Setup"
   ]
  },
  {
   "cell_type": "code",
   "execution_count": null,
   "metadata": {},
   "outputs": [],
   "source": [
    "config_file = Path(\"../../config.json\")\n",
    "with open(config_file) as f:\n",
    "    config_json = json.load(f)\n",
    "    base_path = Path(config_json[\"base_path\"])\n",
    "    \n",
    "base_path = Path(\"../..\").joinpath(base_path)\n",
    "data_path = base_path.joinpath(\"data_per_subject\")"
   ]
  },
  {
   "cell_type": "code",
   "execution_count": null,
   "metadata": {},
   "outputs": [],
   "source": [
    "subject_dirs = bp.utils.file_handling.get_subject_dirs(data_path, \"VP_*\")\n",
    "subject_dirs"
   ]
  },
  {
   "cell_type": "markdown",
   "metadata": {},
   "source": [
    "## Process ECG Data"
   ]
  },
  {
   "cell_type": "code",
   "execution_count": null,
   "metadata": {},
   "outputs": [],
   "source": [
    "subject_dict = {}\n",
    "\n",
    "for subject_dir in tqdm(subject_dirs[:1], desc=\"Subject\"):\n",
    "    subject_id = subject_dir.name\n",
    "    \n",
    "    for condition in tqdm([\"control\", \"stress\"], desc=subject_id):        \n",
    "        ecg_dir = subject_dir.joinpath(\"{}/ecg\").format(condition)\n",
    "        timelog_dir = subject_dir.joinpath(\"{}/time_log\").format(condition)\n",
    "        timelog_dict = load_split_time_logs(timelog_dir.joinpath(\"processed\"))\n",
    "        \n",
    "        ecg_dict, fs = load_folder_nilspod(ecg_dir.joinpath(\"raw\"), phase_names=[\"Pre\", \"MIST\", \"Post\"])\n",
    "        \n",
    "        ep_dict = {}\n",
    "        for key_timelog, key_ecg in tqdm(list(zip(timelog_dict, ecg_dict)), desc=condition):\n",
    "            ep = EcgProcessor(data=ecg_dict[key_ecg], sampling_rate=fs, time_intervals=timelog_dict[key_timelog])\n",
    "            ep.ecg_process(title=key_ecg)\n",
    "            \n",
    "            ep_dict[key_ecg] = ep\n",
    "\n",
    "            ecg_export_dir = ecg_dir.joinpath(\"processed\")\n",
    "            ecg_export_dir.mkdir(exist_ok=True)\n",
    "            write_pandas_dict_excel(ep.heart_rate, ecg_export_dir.joinpath(\"heart_rate_result_{}_{}.xlsx\".format(subject_id, key_timelog)))\n",
    "            write_pandas_dict_excel(ep.rpeaks, ecg_export_dir.joinpath(\"rpeaks_result_{}_{}.xlsx\".format(subject_id, key_timelog)))\n",
    "            \n",
    "        subject_dict[subject_id] = ep_dict\n"
   ]
  },
  {
   "cell_type": "code",
   "execution_count": null,
   "metadata": {},
   "outputs": [],
   "source": []
  }
 ],
 "metadata": {
  "kernelspec": {
   "display_name": "empkins",
   "language": "python",
   "name": "empkins"
  },
  "language_info": {
   "codemirror_mode": {
    "name": "ipython",
    "version": 3
   },
   "file_extension": ".py",
   "mimetype": "text/x-python",
   "name": "python",
   "nbconvert_exporter": "python",
   "pygments_lexer": "ipython3",
   "version": "3.8.3"
  }
 },
 "nbformat": 4,
 "nbformat_minor": 4
}
