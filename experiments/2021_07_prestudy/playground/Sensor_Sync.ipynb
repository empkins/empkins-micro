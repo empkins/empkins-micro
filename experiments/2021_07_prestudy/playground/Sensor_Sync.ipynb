{
 "cells": [
  {
   "cell_type": "markdown",
   "metadata": {},
   "source": [
    "# Sensor Synchronization"
   ]
  },
  {
   "cell_type": "code",
   "execution_count": 1,
   "metadata": {},
   "outputs": [],
   "source": [
    "import re\n",
    "from pathlib import Path\n",
    "\n",
    "import pandas as pd\n",
    "import numpy as np\n",
    "import pingouin as pg\n",
    "\n",
    "import matplotlib.pyplot as plt\n",
    "import seaborn as sns\n",
    "\n",
    "import biopsykit as bp\n",
    "import empkins_io as eio\n",
    "import empkins_micro as emic\n",
    "import empkins_macro as emac\n",
    "\n",
    "%load_ext autoreload\n",
    "%autoreload 2\n",
    "%matplotlib widget"
   ]
  },
  {
   "cell_type": "code",
   "execution_count": 2,
   "metadata": {},
   "outputs": [
    {
     "data": {
      "text/html": [
       "<svg  width=\"330\" height=\"55\"><rect x=\"0\" y=\"0\" width=\"55\" height=\"55\" style=\"fill:#003865;stroke-width:2;stroke:rgb(255,255,255)\"/><rect x=\"55\" y=\"0\" width=\"55\" height=\"55\" style=\"fill:#98a4ae;stroke-width:2;stroke:rgb(255,255,255)\"/><rect x=\"110\" y=\"0\" width=\"55\" height=\"55\" style=\"fill:#c99313;stroke-width:2;stroke:rgb(255,255,255)\"/><rect x=\"165\" y=\"0\" width=\"55\" height=\"55\" style=\"fill:#00b1eb;stroke-width:2;stroke:rgb(255,255,255)\"/><rect x=\"220\" y=\"0\" width=\"55\" height=\"55\" style=\"fill:#009b77;stroke-width:2;stroke:rgb(255,255,255)\"/><rect x=\"275\" y=\"0\" width=\"55\" height=\"55\" style=\"fill:#8d1429;stroke-width:2;stroke:rgb(255,255,255)\"/></svg>"
      ],
      "text/plain": [
       "[(0.0, 0.2196078431372549, 0.396078431372549),\n",
       " (0.596078431372549, 0.6431372549019608, 0.6823529411764706),\n",
       " (0.788235294117647, 0.5764705882352941, 0.07450980392156863),\n",
       " (0.0, 0.6941176470588235, 0.9215686274509803),\n",
       " (0.0, 0.6078431372549019, 0.4666666666666667),\n",
       " (0.5529411764705883, 0.0784313725490196, 0.1607843137254902)]"
      ]
     },
     "execution_count": 2,
     "metadata": {},
     "output_type": "execute_result"
    }
   ],
   "source": [
    "plt.close(\"all\")\n",
    "\n",
    "palette = bp.colors.fau_palette\n",
    "sns.set_theme(context=\"notebook\", style=\"ticks\", palette=palette)\n",
    "\n",
    "plt.rcParams['figure.figsize'] = (8, 4)\n",
    "plt.rcParams['pdf.fonttype'] = 42\n",
    "plt.rcParams['mathtext.default'] = \"regular\"\n",
    "\n",
    "palette"
   ]
  },
  {
   "cell_type": "code",
   "execution_count": 3,
   "metadata": {},
   "outputs": [],
   "source": [
    "subject_id = \"VP_02\"\n",
    "condition = \"control\"\n",
    "study_part = \"pre\"\n",
    "\n",
    "study_part_dict = {\n",
    "    \"pre\": 0,\n",
    "    \"mist\": 1,\n",
    "    \"post\": 2\n",
    "}\n",
    "\n",
    "outlier_correction = [\"statistical_rr\", \"statistical_rr_diff\", \"artifact\", \"physiological\"]"
   ]
  },
  {
   "cell_type": "code",
   "execution_count": 4,
   "metadata": {},
   "outputs": [],
   "source": [
    "base_path = Path(\"../../../../../HealthPsychology_D03/Data/2021_06_Micro_Prestudy\")\n",
    "data_path = base_path.joinpath(\"data_per_subject/{}/{}\".format(subject_id, condition))\n",
    "\n",
    "ecg_path = data_path.joinpath(\"ecg/raw\")\n",
    "radar_path = data_path.joinpath(\"radar/raw\")\n",
    "video_path = data_path.joinpath(\"video\")\n",
    "timelog_path = data_path.joinpath(\"time_log/processed\")"
   ]
  },
  {
   "cell_type": "code",
   "execution_count": 5,
   "metadata": {},
   "outputs": [
    {
     "name": "stdout",
     "output_type": "stream",
     "text": [
      "NilsPodX-E18A_20210610_114109.bin\t 2021-06-10_11-41-30_VP_02_KB_1__rawdata.mat\t VP_02_MIST_H.264.mp4\n"
     ]
    }
   ],
   "source": [
    "ecg_files = list(sorted(ecg_path.glob(\"*.bin\")))\n",
    "radar_files = list(sorted(radar_path.glob(\"*.mat\")))\n",
    "video_files = list(sorted(video_path.glob(\"*.mp4\")))\n",
    "\n",
    "ecg_file = ecg_files[study_part_dict[study_part]]\n",
    "radar_file = radar_files[study_part_dict[study_part]]\n",
    "video_file = video_files[study_part_dict[study_part]]\n",
    "\n",
    "timelog_file = timelog_path.joinpath(\"time_log_{}.csv\".format(subject_id))\n",
    "print(\"{}\\t {}\\t {}\".format(ecg_file.name, radar_file.name, video_file.name))"
   ]
  },
  {
   "cell_type": "markdown",
   "metadata": {},
   "source": [
    "## Load Time Log"
   ]
  },
  {
   "cell_type": "code",
   "execution_count": 6,
   "metadata": {},
   "outputs": [
    {
     "data": {
      "text/html": [
       "<div>\n",
       "<style scoped>\n",
       "    .dataframe tbody tr th:only-of-type {\n",
       "        vertical-align: middle;\n",
       "    }\n",
       "\n",
       "    .dataframe tbody tr th {\n",
       "        vertical-align: top;\n",
       "    }\n",
       "\n",
       "    .dataframe thead tr th {\n",
       "        text-align: left;\n",
       "    }\n",
       "\n",
       "    .dataframe thead tr:last-of-type th {\n",
       "        text-align: right;\n",
       "    }\n",
       "</style>\n",
       "<table border=\"1\" class=\"dataframe\">\n",
       "  <thead>\n",
       "    <tr>\n",
       "      <th>phase</th>\n",
       "      <th colspan=\"2\" halign=\"left\">pre</th>\n",
       "      <th colspan=\"2\" halign=\"left\">pre_baseline</th>\n",
       "    </tr>\n",
       "    <tr>\n",
       "      <th>time</th>\n",
       "      <th>start</th>\n",
       "      <th>end</th>\n",
       "      <th>start</th>\n",
       "      <th>end</th>\n",
       "    </tr>\n",
       "    <tr>\n",
       "      <th>subject</th>\n",
       "      <th></th>\n",
       "      <th></th>\n",
       "      <th></th>\n",
       "      <th></th>\n",
       "    </tr>\n",
       "  </thead>\n",
       "  <tbody>\n",
       "    <tr>\n",
       "      <th>VP_02</th>\n",
       "      <td>11:40:27</td>\n",
       "      <td>11:59:46</td>\n",
       "      <td>11:49:09</td>\n",
       "      <td>11:51:10</td>\n",
       "    </tr>\n",
       "  </tbody>\n",
       "</table>\n",
       "</div>"
      ],
      "text/plain": [
       "phase         pre           pre_baseline          \n",
       "time        start       end        start       end\n",
       "subject                                           \n",
       "VP_02    11:40:27  11:59:46     11:49:09  11:51:10"
      ]
     },
     "execution_count": 6,
     "metadata": {},
     "output_type": "execute_result"
    }
   ],
   "source": [
    "time_intervals = bp.io.load_time_log(timelog_file, continuous_time=False)\n",
    "time_intervals = time_intervals.filter(like=study_part)\n",
    "time_intervals"
   ]
  },
  {
   "cell_type": "markdown",
   "metadata": {},
   "source": [
    "## Load NilsPod and Radar Data"
   ]
  },
  {
   "cell_type": "code",
   "execution_count": 7,
   "metadata": {},
   "outputs": [],
   "source": [
    "ecg, fs_ecg = bp.io.nilspod.load_dataset_nilspod(ecg_file)\n",
    "# flip signal because it's upside down\n",
    "# ecg[\"ecg\"]= -1 * ecg[\"ecg\"]"
   ]
  },
  {
   "cell_type": "code",
   "execution_count": 8,
   "metadata": {},
   "outputs": [],
   "source": [
    "radar, fs_radar = eio.io.a04.load_data(radar_file, datastreams=[\"hr\"])\n",
    "radar = radar[\"hr\"]"
   ]
  },
  {
   "cell_type": "markdown",
   "metadata": {},
   "source": [
    "### Align both Signals"
   ]
  },
  {
   "cell_type": "code",
   "execution_count": 9,
   "metadata": {},
   "outputs": [],
   "source": [
    "radar, ecg = eio.sensors.utils.align_to_reference_data(radar, ecg)"
   ]
  },
  {
   "cell_type": "markdown",
   "metadata": {},
   "source": [
    "### Process ECG Signal"
   ]
  },
  {
   "cell_type": "code",
   "execution_count": 10,
   "metadata": {},
   "outputs": [
    {
     "data": {
      "application/vnd.jupyter.widget-view+json": {
       "model_id": "930e7d2672444203a94bab5671da6570",
       "version_major": 2,
       "version_minor": 0
      },
      "text/plain": [
       "  0%|          | 0/2 [00:00<?, ?it/s]"
      ]
     },
     "metadata": {},
     "output_type": "display_data"
    }
   ],
   "source": [
    "ep = bp.signals.ecg.EcgProcessor(data=ecg, sampling_rate=fs_ecg, time_intervals=time_intervals)\n",
    "ep.ecg_process(outlier_correction=outlier_correction)\n",
    "\n",
    "ecg_dict = ep.rpeaks"
   ]
  },
  {
   "cell_type": "markdown",
   "metadata": {},
   "source": [
    "### Process Radar Signal"
   ]
  },
  {
   "cell_type": "code",
   "execution_count": 11,
   "metadata": {},
   "outputs": [
    {
     "data": {
      "application/vnd.jupyter.widget-view+json": {
       "model_id": "b8fe0b5612ab4e17a550f974a36551b0",
       "version_major": 2,
       "version_minor": 0
      },
      "text/plain": [
       "  0%|          | 0/2 [00:00<?, ?it/s]"
      ]
     },
     "metadata": {},
     "output_type": "display_data"
    }
   ],
   "source": [
    "rp = eio.sensors.a04.A04Processor(radar, time_intervals=time_intervals)\n",
    "rp.process(outlier_correction=outlier_correction)\n",
    "\n",
    "radar_dict = rp.rpeaks"
   ]
  },
  {
   "cell_type": "code",
   "execution_count": 12,
   "metadata": {},
   "outputs": [],
   "source": [
    "key = \"pre_baseline\"\n",
    "\n",
    "hr_ecg = ecg_dict[key]\n",
    "hr_radar = radar_dict[key]"
   ]
  },
  {
   "cell_type": "markdown",
   "metadata": {},
   "source": [
    "### ECG Overview Plot"
   ]
  },
  {
   "cell_type": "code",
   "execution_count": 22,
   "metadata": {},
   "outputs": [
    {
     "data": {
      "application/vnd.jupyter.widget-view+json": {
       "model_id": "db044d49ed5d4bf4aa7885f81043f3a1",
       "version_major": 2,
       "version_minor": 0
      },
      "text/plain": [
       "Canvas(toolbar=Toolbar(toolitems=[('Home', 'Reset original view', 'home', 'home'), ('Back', 'Back to previous …"
      ]
     },
     "metadata": {},
     "output_type": "display_data"
    },
    {
     "name": "stdout",
     "output_type": "stream",
     "text": [
      "FacultyColors(fau='#002F6C', tech='#779FB5', phil='#FFB81C', med='#00A3E0', nat='#43B02A', wiso='#C8102E')\n"
     ]
    }
   ],
   "source": [
    "fig, axs = bp.signals.ecg.plotting.ecg_plot(ep, key=key, figsize=(10,5))\n",
    "fig.savefig(\"img_fau_colors.png\", transparent=True, dpi=300)"
   ]
  },
  {
   "cell_type": "markdown",
   "metadata": {},
   "source": [
    "## Sync ECG and Radar"
   ]
  },
  {
   "cell_type": "markdown",
   "metadata": {},
   "source": [
    "### Resample Signals to 1Hz"
   ]
  },
  {
   "cell_type": "code",
   "execution_count": null,
   "metadata": {},
   "outputs": [],
   "source": [
    "hr_ecg_res = bp.utils.data_processing.resample_sec(hr_ecg[\"Heart_Rate\"])\n",
    "hr_radar_res = bp.utils.data_processing.resample_sec(hr_radar[\"Heart_Rate\"])\n",
    "\n",
    "index_intersect = hr_ecg_res.index.intersection(hr_radar_res.index)\n",
    "\n",
    "hr_ecg_res = hr_ecg_res.loc[index_intersect]\n",
    "hr_radar_res = hr_radar_res.loc[index_intersect]"
   ]
  },
  {
   "cell_type": "markdown",
   "metadata": {},
   "source": [
    "### Align Signals"
   ]
  },
  {
   "cell_type": "code",
   "execution_count": null,
   "metadata": {},
   "outputs": [],
   "source": [
    "hr_ecg_res, hr_radar_shift, shift_idx = eio.signal_alignment.signal_align(hr_ecg_res, hr_radar_res)\n",
    "\n",
    "print(\"Shift: {:.3f} seconds\".format(shift_idx))"
   ]
  },
  {
   "cell_type": "markdown",
   "metadata": {},
   "source": [
    "### Before Shift"
   ]
  },
  {
   "cell_type": "code",
   "execution_count": null,
   "metadata": {},
   "outputs": [],
   "source": [
    "fig, ax = plt.subplots()\n",
    "eio.sensors.a04.plotting.hr_plot_ecg_radar(hr_ecg=hr_ecg_res, hr_radar=hr_radar_res, ax=ax)\n",
    "\n",
    "fig.tight_layout()"
   ]
  },
  {
   "cell_type": "markdown",
   "metadata": {},
   "source": [
    "#### Sensor Data Agreement"
   ]
  },
  {
   "cell_type": "code",
   "execution_count": null,
   "metadata": {},
   "outputs": [],
   "source": [
    "eio.sensor_validation.plotting.plot_sensor_agreement(\n",
    "    reference=hr_ecg_res[\"Heart_Rate\"], \n",
    "    target=hr_radar_res[\"Heart_Rate\"], \n",
    "    reference_name=\"$HR_{ECG}$ [bpm]\", \n",
    "    target_name=\"$HR_{Radar}$ [bpm]\"\n",
    ")"
   ]
  },
  {
   "cell_type": "code",
   "execution_count": null,
   "metadata": {},
   "outputs": [],
   "source": [
    "metric_dict = eio.sensor_validation.metrics.agreement_metrics(hr_ecg_res[\"Heart_Rate\"], hr_radar_res[\"Heart_Rate\"])\n",
    "eio.sensor_validation.metrics.display_metrics(metric_dict)"
   ]
  },
  {
   "cell_type": "markdown",
   "metadata": {},
   "source": [
    "### After Shift"
   ]
  },
  {
   "cell_type": "code",
   "execution_count": null,
   "metadata": {},
   "outputs": [],
   "source": [
    "fig, ax = plt.subplots()\n",
    "eio.sensors.a04.plotting.hr_plot_ecg_radar(hr_ecg=hr_ecg_res, hr_radar=hr_radar_shift, plot_outlier=False, plot_radar_quality=False, ax=ax)\n",
    "\n",
    "fig.tight_layout()"
   ]
  },
  {
   "cell_type": "markdown",
   "metadata": {},
   "source": [
    "#### Sensor Data Agreement"
   ]
  },
  {
   "cell_type": "code",
   "execution_count": null,
   "metadata": {},
   "outputs": [],
   "source": [
    "eio.sensor_validation.plotting.plot_sensor_agreement(\n",
    "    reference=hr_ecg_res[\"Heart_Rate\"], \n",
    "    target=hr_radar_shift[\"Heart_Rate\"], \n",
    "    reference_name=\"$HR_{ECG}$ [bpm]\", \n",
    "    target_name=\"$HR_{Radar}$ [bpm]\"\n",
    ")"
   ]
  },
  {
   "cell_type": "code",
   "execution_count": null,
   "metadata": {},
   "outputs": [],
   "source": [
    "metric_dict = eio.sensor_validation.metrics.agreement_metrics(hr_ecg_res[\"Heart_Rate\"], hr_radar_shift[\"Heart_Rate\"])\n",
    "eio.sensor_validation.metrics.display_metrics(metric_dict)"
   ]
  },
  {
   "cell_type": "code",
   "execution_count": null,
   "metadata": {},
   "outputs": [],
   "source": []
  },
  {
   "cell_type": "code",
   "execution_count": null,
   "metadata": {},
   "outputs": [],
   "source": []
  }
 ],
 "metadata": {
  "kernelspec": {
   "display_name": "empkins",
   "language": "python",
   "name": "empkins"
  },
  "language_info": {
   "codemirror_mode": {
    "name": "ipython",
    "version": 3
   },
   "file_extension": ".py",
   "mimetype": "text/x-python",
   "name": "python",
   "nbconvert_exporter": "python",
   "pygments_lexer": "ipython3",
   "version": "3.8.3"
  }
 },
 "nbformat": 4,
 "nbformat_minor": 4
}
