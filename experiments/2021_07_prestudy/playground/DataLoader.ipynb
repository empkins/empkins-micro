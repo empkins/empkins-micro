{
 "cells": [
  {
   "cell_type": "markdown",
   "metadata": {},
   "source": [
    "# EmpkinS Mikro Data Loader"
   ]
  },
  {
   "cell_type": "code",
   "execution_count": null,
   "metadata": {},
   "outputs": [],
   "source": [
    "from pathlib import Path\n",
    "\n",
    "import re\n",
    "\n",
    "import pandas as pd\n",
    "import numpy as np\n",
    "import pingouin as pg\n",
    "\n",
    "import librosa as lr\n",
    "\n",
    "import matplotlib.pyplot as plt\n",
    "import seaborn as sns\n",
    "\n",
    "import biopsykit as bp\n",
    "from biopsykit.signals.ecg import EcgProcessor\n",
    "\n",
    "import empkins_io as eio\n",
    "import empkins_micro as emic\n",
    "from empkins_micro.preprocessing.imu.sensor_alignment import align_dataset_to_gravity, GRAV_VEC\n",
    "\n",
    "%load_ext autoreload\n",
    "%autoreload 2\n",
    "%matplotlib widget"
   ]
  },
  {
   "cell_type": "code",
   "execution_count": null,
   "metadata": {},
   "outputs": [],
   "source": [
    "palette = bp.colors.fau_palette\n",
    "sns.set_theme(context=\"notebook\", style=\"ticks\", palette=palette)\n",
    "\n",
    "figsize = (10, 5)\n",
    "\n",
    "plt.close(\"all\")\n",
    "plt.rcParams['figure.figsize'] = figsize\n",
    "plt.rcParams['pdf.fonttype'] = 42\n",
    "plt.rcParams['mathtext.default'] = \"regular\"\n",
    "\n",
    "pg.options['round'] = 3\n",
    "\n",
    "palette"
   ]
  },
  {
   "cell_type": "code",
   "execution_count": null,
   "metadata": {},
   "outputs": [],
   "source": [
    "subject_id = \"VP_02\"\n",
    "condition = \"stress\"\n",
    "study_part = \"pre\"\n",
    "\n",
    "study_part_dict = {\n",
    "    \"pre\": 0,\n",
    "    \"mist\": 1,\n",
    "    \"post\": 2\n",
    "}\n",
    "\n",
    "outlier_correction = [\"statistical_rr\", \"statistical_rr_diff\", \"artifact\", \"physiological\"]"
   ]
  },
  {
   "cell_type": "code",
   "execution_count": null,
   "metadata": {},
   "outputs": [],
   "source": [
    "base_path = Path(\"../../../../../HealthPsychology_D03/Data/2021_06_Micro_Prestudy\")\n",
    "data_path = base_path.joinpath(\"data_per_subject/{}/{}\".format(subject_id, condition))\n",
    "\n",
    "ecg_path = data_path.joinpath(\"ecg/raw\")\n",
    "radar_path = data_path.joinpath(\"radar/raw\")\n",
    "video_path = data_path.joinpath(\"video\")\n",
    "timelog_path = data_path.joinpath(\"time_log/processed\")"
   ]
  },
  {
   "cell_type": "code",
   "execution_count": null,
   "metadata": {},
   "outputs": [],
   "source": [
    "ecg_files = list(sorted(ecg_path.glob(\"*.bin\")))\n",
    "radar_files = list(sorted(radar_path.glob(\"*.mat\")))\n",
    "video_files = list(sorted(video_path.glob(\"*.mp4\")))\n",
    "\n",
    "ecg_file = ecg_files[study_part_dict[study_part]]\n",
    "radar_file = radar_files[study_part_dict[study_part]]\n",
    "video_file = video_files[3]\n",
    "\n",
    "timelog_file = timelog_path.joinpath(\"time_log_{}.csv\".format(subject_id))\n",
    "print(\"{}\\t {}\\t {}\".format(ecg_file.name, radar_file.name, video_file.name))"
   ]
  },
  {
   "cell_type": "markdown",
   "metadata": {},
   "source": [
    "## Load NilsPod and Radar Data"
   ]
  },
  {
   "cell_type": "code",
   "execution_count": null,
   "metadata": {},
   "outputs": [],
   "source": [
    "ecg, fs_ecg = bp.io.nilspod.load_dataset_nilspod(ecg_file)\n",
    "radar, fs_radar = eio.sensors.a04.load_data(radar_file, datastreams=[\"hr\"])\n",
    "radar = radar[\"hr\"]"
   ]
  },
  {
   "cell_type": "code",
   "execution_count": null,
   "metadata": {},
   "outputs": [],
   "source": [
    "ecg, radar = eio.sensors.utils.cut_data_to_overlap(ecg, radar)\n",
    "\n",
    "#ecg[\"ecg\"]= -1 * ecg[\"ecg\"]"
   ]
  },
  {
   "cell_type": "code",
   "execution_count": null,
   "metadata": {},
   "outputs": [],
   "source": [
    "time_intervals = bp.io.load_time_log(timelog_file, continuous_time=False)\n",
    "time_intervals = time_intervals.filter(like=study_part)\n",
    "\n",
    "time_intervals"
   ]
  },
  {
   "cell_type": "code",
   "execution_count": null,
   "metadata": {},
   "outputs": [],
   "source": [
    "ep = EcgProcessor(data=ecg, sampling_rate=fs_ecg, time_intervals=time_intervals)\n",
    "ep.ecg_process(outlier_correction=outlier_correction)\n",
    "ecg_dict = ep.rpeaks"
   ]
  },
  {
   "cell_type": "code",
   "execution_count": null,
   "metadata": {},
   "outputs": [],
   "source": [
    "rp = eio.processing.a04.A04Processor(radar, time_intervals=time_intervals)\n",
    "rp.process(outlier_correction=outlier_correction)\n",
    "\n",
    "radar_dict = rp.rpeaks"
   ]
  },
  {
   "cell_type": "code",
   "execution_count": null,
   "metadata": {},
   "outputs": [],
   "source": [
    "key = \"pre_baseline\"\n",
    "\n",
    "hr_ecg = ecg_dict[key]\n",
    "hr_radar = radar_dict[key]\n",
    "imu_data = ecg.loc[hr_ecg.index[0]:hr_ecg.index[-1]]"
   ]
  },
  {
   "cell_type": "markdown",
   "metadata": {},
   "source": [
    "### Overview Plot"
   ]
  },
  {
   "cell_type": "code",
   "execution_count": null,
   "metadata": {},
   "outputs": [],
   "source": [
    "fig, axs = bp.signals.ecg.plotting.ecg_plot(ep, key=key, figsize=figsize)"
   ]
  },
  {
   "cell_type": "markdown",
   "metadata": {},
   "source": [
    "## Chest IMU Data"
   ]
  },
  {
   "cell_type": "code",
   "execution_count": null,
   "metadata": {},
   "outputs": [],
   "source": [
    "acc_data_align = align_dataset_to_gravity(imu_data, sampling_rate_hz=fs_ecg).filter(like=\"acc\")\n",
    "\n",
    "# remove gravity\n",
    "acc_data_align[\"acc_z\"] -= np.sum(GRAV_VEC)\n",
    "acc_energy_align = pd.DataFrame((acc_data_align**2).sum(axis=1), columns=[\"acc_energy\"])"
   ]
  },
  {
   "cell_type": "code",
   "execution_count": null,
   "metadata": {},
   "outputs": [],
   "source": [
    "fig, axs = plt.subplots(ncols=2)\n",
    "acc_data_align.rolling(100).mean().plot(ax=axs[0], title=\"3-axis Acceleration\")\n",
    "acc_energy_align.rolling(100).mean().plot(ax=axs[1], title=\"Acceleration Energy\")"
   ]
  },
  {
   "cell_type": "markdown",
   "metadata": {},
   "source": [
    "## Audio Data"
   ]
  },
  {
   "cell_type": "code",
   "execution_count": null,
   "metadata": {},
   "outputs": [],
   "source": [
    "audio_data, fs_audio = lr.load(video_file)\n",
    "ds = 100\n",
    "fs_downsample = fs_audio / ds\n",
    "audio_downsample = audio_data[::ds]"
   ]
  },
  {
   "cell_type": "code",
   "execution_count": null,
   "metadata": {},
   "outputs": [],
   "source": [
    "audio_downsample = pd.DataFrame(audio_downsample, index=hr_ecg.index[0] + pd.TimedeltaIndex(np.arange(0, len(audio_downsample)) / fs_downsample, unit='s'))\n",
    "audio_downsample = np.abs(audio_downsample)\n",
    "audio_downsample = audio_downsample.loc[hr_ecg.index[0]:hr_ecg.index[-1]]"
   ]
  },
  {
   "cell_type": "code",
   "execution_count": null,
   "metadata": {},
   "outputs": [],
   "source": [
    "acc_roll = acc_energy_align.rolling(100).mean()"
   ]
  },
  {
   "cell_type": "code",
   "execution_count": null,
   "metadata": {},
   "outputs": [],
   "source": [
    "fig, ax = plt.subplots(figsize=figsize)\n",
    "fig, ax = eio.processing.a04.plotting.hr_plot_ecg_radar(hr_ecg=hr_ecg, hr_radar=hr_radar, plot_radar_quality=True, plot_outlier=False, plot_mean=False, ax=ax)\n",
    "\n",
    "ylims = ax.get_ylim()\n",
    "\n",
    "ymax = (ylims[1] - ylims[0]) * 0.5 + ylims[0]\n",
    "ylims = [ylims[0], ymax]\n",
    "\n",
    "acc_roll_rescaled = (ylims[1] - ylims[0]) * (acc_roll - acc_roll.min()) / (acc_roll.max() - acc_roll.min()) + ylims[0]\n",
    "audio_rescaled = (ylims[1] - ylims[0]) * (audio_downsample - audio_downsample.min()) / (audio_downsample.max() - audio_downsample.min()) + ylims[0]\n",
    "\n",
    "h = ax.plot(acc_roll_rescaled, color=bp.colors.fau_color(\"tech\"), alpha=0.3)\n",
    "l = ax.legend(h, [\"Acc. Energy\"], loc=\"lower left\", fontsize=\"small\")\n",
    "ax.add_artist(l)\n",
    "h = ax.plot(audio_rescaled, color=bp.colors.fau_color(\"phil\"), alpha=0.3)\n",
    "l = ax.legend(h, [\"Audio Signal\"], loc=\"lower right\", fontsize=\"small\")\n",
    "ax.add_artist(l)"
   ]
  },
  {
   "cell_type": "code",
   "execution_count": null,
   "metadata": {},
   "outputs": [],
   "source": []
  }
 ],
 "metadata": {
  "kernelspec": {
   "display_name": "empkins",
   "language": "python",
   "name": "empkins"
  },
  "language_info": {
   "codemirror_mode": {
    "name": "ipython",
    "version": 3
   },
   "file_extension": ".py",
   "mimetype": "text/x-python",
   "name": "python",
   "nbconvert_exporter": "python",
   "pygments_lexer": "ipython3",
   "version": "3.8.3"
  }
 },
 "nbformat": 4,
 "nbformat_minor": 4
}
