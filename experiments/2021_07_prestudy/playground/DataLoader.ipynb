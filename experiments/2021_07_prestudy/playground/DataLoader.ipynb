{
 "cells": [
  {
   "cell_type": "markdown",
   "metadata": {},
   "source": [
    "# EmpkinS Mikro Data Loader"
   ]
  },
  {
   "cell_type": "code",
   "execution_count": 1,
   "metadata": {},
   "outputs": [],
   "source": [
    "from pathlib import Path\n",
    "\n",
    "import re\n",
    "\n",
    "import pandas as pd\n",
    "import numpy as np\n",
    "import pingouin as pg\n",
    "\n",
    "from scipy.ndimage import shift\n",
    "import scipy.signal as signal\n",
    "from sklearn.metrics import mean_absolute_error\n",
    "\n",
    "import librosa as lr\n",
    "\n",
    "import biopsykit as bp\n",
    "from biopsykit.signals.ecg import EcgProcessor\n",
    "\n",
    "from empkins_io.sensors.radar import load_radar_data, sync_with_ecg, split_data, correct_outlier\n",
    "\n",
    "from empkins_micro.time_logs import process_time_log\n",
    "from empkins_micro.plotting import hr_plot_ecg_radar\n",
    "from empkins_micro.heart_rate_validation import resample_data\n",
    "from empkins_micro.signal_alignment import chisqr_align, ccovf, phase_align\n",
    "\n",
    "import matplotlib.pyplot as plt\n",
    "import seaborn as sns\n",
    "\n",
    "%load_ext autoreload\n",
    "%autoreload 2\n",
    "%matplotlib widget"
   ]
  },
  {
   "cell_type": "code",
   "execution_count": 2,
   "metadata": {},
   "outputs": [
    {
     "data": {
      "text/html": [
       "<svg  width=\"330\" height=\"55\"><rect x=\"0\" y=\"0\" width=\"55\" height=\"55\" style=\"fill:#003865;stroke-width:2;stroke:rgb(255,255,255)\"/><rect x=\"55\" y=\"0\" width=\"55\" height=\"55\" style=\"fill:#98a4ae;stroke-width:2;stroke:rgb(255,255,255)\"/><rect x=\"110\" y=\"0\" width=\"55\" height=\"55\" style=\"fill:#c99313;stroke-width:2;stroke:rgb(255,255,255)\"/><rect x=\"165\" y=\"0\" width=\"55\" height=\"55\" style=\"fill:#00b1eb;stroke-width:2;stroke:rgb(255,255,255)\"/><rect x=\"220\" y=\"0\" width=\"55\" height=\"55\" style=\"fill:#009b77;stroke-width:2;stroke:rgb(255,255,255)\"/><rect x=\"275\" y=\"0\" width=\"55\" height=\"55\" style=\"fill:#8d1429;stroke-width:2;stroke:rgb(255,255,255)\"/></svg>"
      ],
      "text/plain": [
       "[(0.0, 0.2196078431372549, 0.396078431372549),\n",
       " (0.596078431372549, 0.6431372549019608, 0.6823529411764706),\n",
       " (0.788235294117647, 0.5764705882352941, 0.07450980392156863),\n",
       " (0.0, 0.6941176470588235, 0.9215686274509803),\n",
       " (0.0, 0.6078431372549019, 0.4666666666666667),\n",
       " (0.5529411764705883, 0.0784313725490196, 0.1607843137254902)]"
      ]
     },
     "execution_count": 2,
     "metadata": {},
     "output_type": "execute_result"
    }
   ],
   "source": [
    "palette = bp.colors.fau_palette\n",
    "sns.set_theme(context=\"notebook\", style=\"ticks\", palette=palette)\n",
    "\n",
    "figsize = (10, 5)\n",
    "\n",
    "plt.close(\"all\")\n",
    "plt.rcParams['figure.figsize'] = figsize\n",
    "plt.rcParams['pdf.fonttype'] = 42\n",
    "plt.rcParams['mathtext.default'] = \"regular\"\n",
    "\n",
    "pg.options['round'] = 3\n",
    "\n",
    "palette"
   ]
  },
  {
   "cell_type": "code",
   "execution_count": 3,
   "metadata": {},
   "outputs": [],
   "source": [
    "subject_id = \"VP_02\"\n",
    "condition = \"stress\"\n",
    "study_part = \"pre\"\n",
    "\n",
    "study_part_dict = {\n",
    "    \"pre\": 0,\n",
    "    \"mist\": 1,\n",
    "    \"post\": 2\n",
    "}\n",
    "\n",
    "outlier_correction = [\"statistical_rr\", \"statistical_rr_diff\", \"artifact\", \"physiological\"]"
   ]
  },
  {
   "cell_type": "code",
   "execution_count": 4,
   "metadata": {},
   "outputs": [],
   "source": [
    "base_path = Path(\"../../../../../HealthPsychology_D03/Data/2021_06_Micro_Prestudy\")\n",
    "data_path = base_path.joinpath(\"data_per_subject/{}/{}\".format(subject_id, condition))\n",
    "\n",
    "ecg_path = data_path.joinpath(\"ecg/raw\")\n",
    "radar_path = data_path.joinpath(\"radar/raw\")\n",
    "video_path = data_path.joinpath(\"video\")\n",
    "timelog_path = data_path.joinpath(\"time_log/processed\")"
   ]
  },
  {
   "cell_type": "code",
   "execution_count": 5,
   "metadata": {},
   "outputs": [
    {
     "name": "stdout",
     "output_type": "stream",
     "text": [
      "NilsPodX-E18A_20210609_114647.bin\t 2021-06-09_11-47-01_VP_02_EB_1__rawdata.mat\t VP_02_pre_H.264.mp4\n"
     ]
    }
   ],
   "source": [
    "ecg_files = list(sorted(ecg_path.glob(\"*.bin\")))\n",
    "radar_files = list(sorted(radar_path.glob(\"*.mat\")))\n",
    "video_files = list(sorted(video_path.glob(\"*.mp4\")))\n",
    "\n",
    "ecg_file = ecg_files[study_part_dict[study_part]]\n",
    "radar_file = radar_files[study_part_dict[study_part]]\n",
    "video_file = video_files[3]\n",
    "\n",
    "timelog_file = timelog_path.joinpath(\"time_log_{}.csv\".format(subject_id))\n",
    "print(\"{}\\t {}\\t {}\".format(ecg_file.name, radar_file.name, video_file.name))"
   ]
  },
  {
   "cell_type": "markdown",
   "metadata": {},
   "source": [
    "## Load NilsPod and Radar Data"
   ]
  },
  {
   "cell_type": "code",
   "execution_count": 6,
   "metadata": {},
   "outputs": [],
   "source": [
    "ecg, fs_ecg = bp.io.nilspod.load_dataset_nilspod(ecg_file)\n",
    "radar, fs_radar = load_radar_data(radar_file, datastreams=[\"hr\"])\n",
    "radar = radar[\"hr\"]"
   ]
  },
  {
   "cell_type": "code",
   "execution_count": 7,
   "metadata": {},
   "outputs": [],
   "source": [
    "radar, ecg = sync_with_ecg(radar, ecg)\n",
    "\n",
    "ecg[\"ecg\"]= -1 * ecg[\"ecg\"]"
   ]
  },
  {
   "cell_type": "code",
   "execution_count": 8,
   "metadata": {},
   "outputs": [],
   "source": [
    "timelog = bp.io.load_time_log(timelog_file, continuous_time=False)\n",
    "timelog = timelog.filter(like=study_part)"
   ]
  },
  {
   "cell_type": "code",
   "execution_count": 9,
   "metadata": {},
   "outputs": [
    {
     "data": {
      "application/vnd.jupyter.widget-view+json": {
       "model_id": "6155f6c3b7b54ed1adfe707d257e8191",
       "version_major": 2,
       "version_minor": 0
      },
      "text/plain": [
       "  0%|          | 0/2 [00:00<?, ?it/s]"
      ]
     },
     "metadata": {},
     "output_type": "display_data"
    }
   ],
   "source": [
    "ep = EcgProcessor(data=ecg, sampling_rate=fs_ecg, time_intervals=timelog)\n",
    "ep.ecg_process(outlier_correction=outlier_correction)\n",
    "ecg_dict = ep.rpeaks"
   ]
  },
  {
   "cell_type": "code",
   "execution_count": 10,
   "metadata": {},
   "outputs": [],
   "source": [
    "radar_dict = split_data(radar, timelog.loc[subject_id])\n",
    "radar_dict = {key: correct_outlier(value, outlier_correction=outlier_correction, sampling_rate=fs_radar) for key, value in radar_dict.items()}"
   ]
  },
  {
   "cell_type": "code",
   "execution_count": 11,
   "metadata": {},
   "outputs": [],
   "source": [
    "key = \"pre_baseline\"\n",
    "\n",
    "hr_ecg = ecg_dict[key]\n",
    "hr_radar = radar_dict[key]\n",
    "imu_data = ecg.loc[hr_ecg.index[0]:hr_ecg.index[-1]]"
   ]
  },
  {
   "cell_type": "markdown",
   "metadata": {},
   "source": [
    "### Overview Plot"
   ]
  },
  {
   "cell_type": "code",
   "execution_count": 12,
   "metadata": {},
   "outputs": [
    {
     "data": {
      "application/vnd.jupyter.widget-view+json": {
       "model_id": "8f5363587f2e47c59bd191644eae2f68",
       "version_major": 2,
       "version_minor": 0
      },
      "text/plain": [
       "Canvas(toolbar=Toolbar(toolitems=[('Home', 'Reset original view', 'home', 'home'), ('Back', 'Back to previous …"
      ]
     },
     "metadata": {},
     "output_type": "display_data"
    }
   ],
   "source": [
    "fig, axs = bp.signals.ecg.plotting.ecg_plot(ep, key=key, figsize=figsize)"
   ]
  },
  {
   "cell_type": "markdown",
   "metadata": {},
   "source": [
    "## Chest IMU Data"
   ]
  },
  {
   "cell_type": "code",
   "execution_count": 14,
   "metadata": {},
   "outputs": [],
   "source": [
    "#from gaitmap.preprocessing import align_dataset_to_gravity"
   ]
  },
  {
   "cell_type": "code",
   "execution_count": 15,
   "metadata": {},
   "outputs": [],
   "source": [
    "#acc_data_align = align_dataset_to_gravity(imu_data, sampling_rate_hz=fs_ecg).filter(like=\"acc\")\n",
    "\n",
    "# remove gravity\n",
    "#acc_data_align[\"acc_z\"] -= 9.81\n",
    "#acc_energy_align = pd.DataFrame((acc_data_align**2).sum(axis=1), columns=[\"acc_energy\"])"
   ]
  },
  {
   "cell_type": "code",
   "execution_count": 16,
   "metadata": {},
   "outputs": [],
   "source": [
    "#fig, axs = plt.subplots(ncols=2)\n",
    "#acc_data_align.rolling(100).mean().plot(ax=axs[0], title=\"3-axis Acceleration\")\n",
    "#acc_energy_align.rolling(100).mean().plot(ax=axs[1], title=\"Acceleration Energy\")"
   ]
  },
  {
   "cell_type": "markdown",
   "metadata": {},
   "source": [
    "## Audio Data"
   ]
  },
  {
   "cell_type": "code",
   "execution_count": 17,
   "metadata": {},
   "outputs": [
    {
     "name": "stderr",
     "output_type": "stream",
     "text": [
      "/Users/Richer/Documents/PhD/Projects/EmpkinS/Code/empkins_base_kernel/.venv/lib/python3.8/site-packages/librosa/core/audio.py:165: UserWarning: PySoundFile failed. Trying audioread instead.\n",
      "  warnings.warn(\"PySoundFile failed. Trying audioread instead.\")\n"
     ]
    }
   ],
   "source": [
    "audio_data, fs_audio = lr.load(video_file)\n",
    "ds = 100\n",
    "fs_downsample = fs_audio / ds\n",
    "audio_downsample = audio_data[::ds]"
   ]
  },
  {
   "cell_type": "code",
   "execution_count": 18,
   "metadata": {},
   "outputs": [],
   "source": [
    "audio_downsample = pd.DataFrame(audio_downsample, index=hr_ecg.index[0] + pd.TimedeltaIndex(np.arange(0, len(audio_downsample)) / fs_downsample, unit='s'))\n",
    "audio_downsample = np.abs(audio_downsample)\n",
    "audio_downsample = audio_downsample.loc[hr_ecg.index[0]:hr_ecg.index[-1]]"
   ]
  },
  {
   "cell_type": "code",
   "execution_count": 19,
   "metadata": {},
   "outputs": [],
   "source": [
    "#acc_roll = acc_energy_align.rolling(100).mean()"
   ]
  },
  {
   "cell_type": "code",
   "execution_count": 20,
   "metadata": {},
   "outputs": [
    {
     "data": {
      "application/vnd.jupyter.widget-view+json": {
       "model_id": "5751fae7194642f79ec0d35ee3d741b4",
       "version_major": 2,
       "version_minor": 0
      },
      "text/plain": [
       "Canvas(toolbar=Toolbar(toolitems=[('Home', 'Reset original view', 'home', 'home'), ('Back', 'Back to previous …"
      ]
     },
     "metadata": {},
     "output_type": "display_data"
    }
   ],
   "source": [
    "fig, ax = plt.subplots(figsize=figsize)\n",
    "fig, ax = hr_plot_ecg_radar(hr_ecg=hr_ecg, hr_radar=hr_radar, plot_radar_quality=True, plot_outlier=False, plot_mean=False, ax=ax)\n",
    "\n",
    "ylims = ax.get_ylim()\n",
    "\n",
    "ymax = (ylims[1] - ylims[0]) * 0.5 + ylims[0]\n",
    "ylims = [ylims[0], ymax]\n",
    "\n",
    "#acc_roll_rescaled = (ylims[1] - ylims[0]) * (acc_roll - acc_roll.min()) / (acc_roll.max() - acc_roll.min()) + ylims[0]\n",
    "\n",
    "#audio_rescaled = (ylims[1] - ylims[0]) * (audio_downsample - audio_downsample.min()) / (audio_downsample.max() - audio_downsample.min()) + ylims[0]\n",
    "\n",
    "#h = ax.plot(acc_roll_rescaled, color=bp.colors.fau_color(\"tech\"), alpha=0.3)\n",
    "#l = ax.legend(h, [\"Acc. Energy\"], loc=\"lower left\", fontsize=\"small\")\n",
    "#ax.add_artist(l)\n",
    "#h = ax.plot(audio_rescaled, color=bp.colors.fau_color(\"phil\"), alpha=0.3)\n",
    "#l = ax.legend(h, [\"Audio Signal\"], loc=\"lower right\", fontsize=\"small\")\n",
    "#ax.add_artist(l)"
   ]
  },
  {
   "cell_type": "code",
   "execution_count": 21,
   "metadata": {},
   "outputs": [
    {
     "name": "stdout",
     "output_type": "stream",
     "text": [
      "Radar Shift: -5.73\n"
     ]
    }
   ],
   "source": [
    "resample_rate = 10\n",
    "hr_ecg_res = resample_data(hr_ecg[\"Heart_Rate\"], resample_rate=resample_rate)\n",
    "hr_radar_res = resample_data(hr_radar[\"Heart_Rate\"], resample_rate=resample_rate)\n",
    "\n",
    "index_intersect = hr_ecg_res.index.intersection(hr_radar_res.index)\n",
    "hr_ecg_res = hr_ecg_res.loc[index_intersect]\n",
    "hr_radar_res = hr_radar_res.loc[index_intersect]\n",
    "\n",
    "shift_idx = phase_align(np.squeeze(hr_ecg_res), np.squeeze(hr_radar_res), roi=[0, len(hr_ecg_res)])\n",
    "hr_radar_res = pd.DataFrame(shift(hr_radar_res, shift=shift_idx, mode=\"nearest\"), columns=hr_radar_res.columns, index=hr_radar_res.index)\n",
    "\n",
    "print(\"Radar Shift: {}\".format(shift_idx))"
   ]
  },
  {
   "cell_type": "code",
   "execution_count": 35,
   "metadata": {},
   "outputs": [
    {
     "data": {
      "application/vnd.jupyter.widget-view+json": {
       "model_id": "6570fc6a645f458498a8f918dab5bd84",
       "version_major": 2,
       "version_minor": 0
      },
      "text/plain": [
       "Canvas(toolbar=Toolbar(toolitems=[('Home', 'Reset original view', 'home', 'home'), ('Back', 'Back to previous …"
      ]
     },
     "metadata": {},
     "output_type": "display_data"
    }
   ],
   "source": [
    "fig, ax = plt.subplots(figsize=figsize)\n",
    "fig, ax = hr_plot_ecg_radar(hr_ecg=hr_ecg, hr_radar=hr_radar, plot_outlier=False, plot_radar_quality=False, ax=ax)"
   ]
  },
  {
   "cell_type": "code",
   "execution_count": 23,
   "metadata": {},
   "outputs": [
    {
     "data": {
      "application/vnd.jupyter.widget-view+json": {
       "model_id": "6a7a371112654017bad90c1040934c86",
       "version_major": 2,
       "version_minor": 0
      },
      "text/plain": [
       "Canvas(toolbar=Toolbar(toolitems=[('Home', 'Reset original view', 'home', 'home'), ('Back', 'Back to previous …"
      ]
     },
     "metadata": {},
     "output_type": "display_data"
    }
   ],
   "source": [
    "fig, ax = plt.subplots(figsize=figsize)\n",
    "fig, ax = hr_plot_ecg_radar(hr_ecg=hr_ecg_res, hr_radar=hr_radar_res, ax=ax)"
   ]
  },
  {
   "cell_type": "code",
   "execution_count": 38,
   "metadata": {},
   "outputs": [
    {
     "data": {
      "text/html": [
       "<div>\n",
       "<style scoped>\n",
       "    .dataframe tbody tr th:only-of-type {\n",
       "        vertical-align: middle;\n",
       "    }\n",
       "\n",
       "    .dataframe tbody tr th {\n",
       "        vertical-align: top;\n",
       "    }\n",
       "\n",
       "    .dataframe thead th {\n",
       "        text-align: right;\n",
       "    }\n",
       "</style>\n",
       "<table border=\"1\" class=\"dataframe\">\n",
       "  <thead>\n",
       "    <tr style=\"text-align: right;\">\n",
       "      <th></th>\n",
       "      <th>n</th>\n",
       "      <th>r</th>\n",
       "      <th>CI95%</th>\n",
       "      <th>p-val</th>\n",
       "      <th>BF10</th>\n",
       "      <th>power</th>\n",
       "    </tr>\n",
       "  </thead>\n",
       "  <tbody>\n",
       "    <tr>\n",
       "      <th>pearson</th>\n",
       "      <td>1191</td>\n",
       "      <td>0.479</td>\n",
       "      <td>[0.43, 0.52]</td>\n",
       "      <td>0.0</td>\n",
       "      <td>7.278e+65</td>\n",
       "      <td>1.0</td>\n",
       "    </tr>\n",
       "  </tbody>\n",
       "</table>\n",
       "</div>"
      ],
      "text/plain": [
       "            n      r         CI95%  p-val       BF10  power\n",
       "pearson  1191  0.479  [0.43, 0.52]    0.0  7.278e+65    1.0"
      ]
     },
     "metadata": {},
     "output_type": "display_data"
    },
    {
     "name": "stdout",
     "output_type": "stream",
     "text": [
      "Mean Absolute Error: 2.543 bpm\n"
     ]
    }
   ],
   "source": [
    "display(pg.corr(np.squeeze(hr_ecg_res), np.squeeze(hr_radar_res)))\n",
    "print(\"Mean Absolute Error: {:.03f} bpm\".format(mean_absolute_error(hr_ecg_res, hr_radar_res)))"
   ]
  },
  {
   "cell_type": "markdown",
   "metadata": {},
   "source": [
    "## Sensor Data Agreement"
   ]
  },
  {
   "cell_type": "code",
   "execution_count": 24,
   "metadata": {},
   "outputs": [],
   "source": [
    "x_data = hr_ecg_res[\"Heart_Rate\"][::10]\n",
    "x_data.name = \"$HR_{ECG}$ [bpm]\"\n",
    "y_data = hr_radar_res[\"Heart_Rate\"][::10]\n",
    "y_data.name = \"$HR_{Radar}$ [bpm]\""
   ]
  },
  {
   "cell_type": "code",
   "execution_count": 25,
   "metadata": {},
   "outputs": [
    {
     "data": {
      "application/vnd.jupyter.widget-view+json": {
       "model_id": "6fcdb259bea44b8cb69acf3b8fdbb8cb",
       "version_major": 2,
       "version_minor": 0
      },
      "text/plain": [
       "Canvas(toolbar=Toolbar(toolitems=[('Home', 'Reset original view', 'home', 'home'), ('Back', 'Back to previous …"
      ]
     },
     "metadata": {},
     "output_type": "display_data"
    }
   ],
   "source": [
    "llim = np.min([np.min(x_data), np.min(y_data)])\n",
    "rlim = np.max([np.max(x_data), np.max(y_data)])\n",
    "\n",
    "g = sns.jointplot(\n",
    "    x=x_data, y=y_data, \n",
    "    #xlim=[llim, rlim], ylim=[llim, rlim], \n",
    "    kind=\"reg\"\n",
    ")"
   ]
  },
  {
   "cell_type": "code",
   "execution_count": 26,
   "metadata": {},
   "outputs": [
    {
     "data": {
      "application/vnd.jupyter.widget-view+json": {
       "model_id": "6b2188b622a94275b8f5a86dac04f161",
       "version_major": 2,
       "version_minor": 0
      },
      "text/plain": [
       "Canvas(toolbar=Toolbar(toolitems=[('Home', 'Reset original view', 'home', 'home'), ('Back', 'Back to previous …"
      ]
     },
     "metadata": {},
     "output_type": "display_data"
    }
   ],
   "source": [
    "fig, ax = plt.subplots(figsize=figsize)\n",
    "ax = pg.plot_blandaltman(x=x_data, y=y_data, scatter_kws={\"color\": bp.colors.fau_color(\"fau\"), \"alpha\": 0.8}, ax=ax)\n",
    "fig.tight_layout()"
   ]
  },
  {
   "cell_type": "code",
   "execution_count": null,
   "metadata": {},
   "outputs": [],
   "source": []
  }
 ],
 "metadata": {
  "kernelspec": {
   "display_name": "empkins",
   "language": "python",
   "name": "empkins"
  },
  "language_info": {
   "codemirror_mode": {
    "name": "ipython",
    "version": 3
   },
   "file_extension": ".py",
   "mimetype": "text/x-python",
   "name": "python",
   "nbconvert_exporter": "python",
   "pygments_lexer": "ipython3",
   "version": "3.8.3"
  }
 },
 "nbformat": 4,
 "nbformat_minor": 4
}
